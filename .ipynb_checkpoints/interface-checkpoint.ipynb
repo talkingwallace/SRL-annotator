{
 "cells": [
  {
   "cell_type": "code",
   "execution_count": 7,
   "metadata": {},
   "outputs": [
    {
     "data": {
      "text/html": [
       "从(0) 中央戏剧学院(1) 毕业(2) 的(3) 有(4) 好多(5) 明星(6) ，这(8) 是(9) 个(10) 很厉害(11) 的(12) 学校(13) 啊(14) 。<br>那(16) 是(17) ，大部分(19) 明星(20) 的(21) 学历(22) 都(23) 不差(24) 呢(25) 。<br>是(27) 啊(28) ，你(30) 认识(31) 杨庆(32) 吗(33) ？他(35) 拍(36) 过夜(37) ·(38) 店(39) 这部(40) 电影(41) ，你(43) 了解(44) 吗(45) ？<br>不(47) 认识(48) 啊(49) ，我(51) 很(52) 有兴趣(53) 看电影(54) 。<br>他(56) 是(57) 1980年(58) 出生(59) 的(60) ，还(62) 比较(63) 年轻(64) ，有(66) 一部(67) 他(68) 导演(69) 的(70) 电影(71) 值得(72) 一看(73) 。<br>什么(75) 电影(76) ？<br>火锅(78) 英雄(79) ，虽然(81) 口碑(82) 较差(83) ，但(85) 电影(86) 内容(87) 还(88) 可以(89) 。<br>下来(91) 我(92) 去(93) 看一看(94) 。<br>"
      ],
      "text/plain": [
       "<IPython.core.display.HTML object>"
      ]
     },
     "metadata": {},
     "output_type": "display_data"
    },
    {
     "name": "stdout",
     "output_type": "stream",
     "text": [
      "3\n"
     ]
    },
    {
     "data": {
      "application/vnd.jupyter.widget-view+json": {
       "model_id": "d9b9336439d34e4bbb3eb50da68cd8dd",
       "version_major": 2,
       "version_minor": 0
      },
      "text/plain": [
       "HBox(children=(VBox(children=(Text(value='', description='predicate', layout=Layout(width='80%')), Text(value=…"
      ]
     },
     "metadata": {},
     "output_type": "display_data"
    },
    {
     "data": {
      "application/vnd.jupyter.widget-view+json": {
       "model_id": "32aaa940266140fc863e102e449fcf51",
       "version_major": 2,
       "version_minor": 0
      },
      "text/plain": [
       "HBox(children=(Button(description='Submit', style=ButtonStyle()), Button(description='Next Sentence', style=Bu…"
      ]
     },
     "metadata": {},
     "output_type": "display_data"
    },
    {
     "name": "stdout",
     "output_type": "stream",
     "text": [
      "progress:2/1999\n"
     ]
    }
   ],
   "source": [
    "import database as db\n",
    "import ipywidgets as widgets\n",
    "from ipywidgets import Button, Layout\n",
    "from IPython.display import display,clear_output,HTML\n",
    "from ipywidgets import Button, HBox, VBox\n",
    "import traceback\n",
    "import os\n",
    "\n",
    "dm = db.DataManager('default','./to_annotate/dev2.txt')\n",
    "\n",
    "verbs = None\n",
    "if os.path.exists('./to_annotate/verb.txt'):\n",
    "    verb_f = open('./to_annotate/verb.txt','r',encoding='utf-8')\n",
    "    verbs = verb_f.read().split('\\n')[:-1]   \n",
    "\n",
    "args_type = ['arg0','arg1','arg2','arg4','loc','tmp','prp']\n",
    "arg_list = []\n",
    "pred_input = widgets.Text(description='predicate',layout=Layout(width='80%'))\n",
    "for arg_str in args_type:\n",
    "    arg_list.append(widgets.Text(description=arg_str,layout=Layout(width='80%')))\n",
    "left_box = VBox([pred_input]+arg_list[0:3],layout=Layout(width='30%'))\n",
    "right_box = VBox(arg_list[3:],layout=Layout(width='30%'))\n",
    "box = HBox([left_box,right_box])\n",
    "\n",
    "def load_data(dm,sentid):\n",
    "    \n",
    "    data = dm.data\n",
    "    punctuation = ['。', '，', '？', '&', '！', '@', '；', '（', '）', '、']\n",
    "    record = data['id2sent'][sentid]\n",
    "    record = record.split(' ')\n",
    "    i = 0\n",
    "    conversation = ''\n",
    "    predicate_suggests = []\n",
    "    for word in record:\n",
    "        if word in punctuation:\n",
    "            conversation += word\n",
    "            i += 1\n",
    "            continue\n",
    "        if word == '<SEP>':\n",
    "            conversation += '<br>'\n",
    "            continue\n",
    "        \n",
    "        new_append = word+'({}) '.format(i)\n",
    "        if verbs and word in verbs:\n",
    "            verbs.append(word)\n",
    "            new_append = '<b>' + new_append + '</b>'\n",
    "        conversation += new_append\n",
    "        i += 1\n",
    "    display(HTML(conversation))\n",
    "    print(len(dm.data['done']))\n",
    "\n",
    "def display_all():\n",
    "    display(box)\n",
    "    display(button_box)\n",
    "    print('progress:{}/{}'.format(dm.cur_idx,len(dm.todo)))\n",
    "\n",
    "def submit_result(b):\n",
    "    id_ = dm.fetch_next()\n",
    "    try:\n",
    "        arg_dict = {}\n",
    "        pred_idx = int(pred_input.value)\n",
    "        pred_input.value = ''\n",
    "        for idx,t in enumerate(arg_list):\n",
    "            if t.value != '':\n",
    "                val = t.value.split(',')\n",
    "                val = [int(i) for i in val]\n",
    "                if len(val) == 1:\n",
    "                    val.append(val[0])\n",
    "                assert val[1] >= val[0]\n",
    "                arg_dict[args_type[idx]] = val\n",
    "                t.value =  ''\n",
    "        id_ = dm.fetch_next()\n",
    "        dm.save(id_,pred_idx,arg_dict)\n",
    "        print('just commit: pred:',pred_idx,'arg:',arg_dict)\n",
    "    except:\n",
    "        print('error! please examine the input format')\n",
    "        traceback.print_exc()\n",
    "\n",
    "def next_sentence(b):\n",
    "    dm.commit()\n",
    "    id_ = dm.fetch_next()\n",
    "    clear_output()\n",
    "    load_data(dm,id_)\n",
    "    display_all()\n",
    "    \n",
    "def save(b):\n",
    "    dm.data.sync()\n",
    "    dm.data.close()\n",
    "    clear_output()\n",
    "    print('save done!')\n",
    "    \n",
    "submit_button = widgets.Button(description=\"Submit\",)\n",
    "next_button = widgets.Button(description='Next Sentence')\n",
    "save_button = widgets.Button(description='Save and Quit')\n",
    "button_box = HBox([submit_button,next_button,save_button])\n",
    "next_button.on_click(next_sentence)\n",
    "submit_button.on_click(submit_result)\n",
    "save_button.on_click(save)\n",
    "\n",
    "id_ = dm.fetch_next()\n",
    "load_data(dm,id_)\n",
    "display_all()"
   ]
  },
  {
   "cell_type": "code",
   "execution_count": 1,
   "metadata": {},
   "outputs": [],
   "source": [
    "from IPython.display import HTML"
   ]
  },
  {
   "cell_type": "code",
   "execution_count": 2,
   "metadata": {},
   "outputs": [
    {
     "data": {
      "text/html": [
       "<a href=\"http://example.com\">link</a>"
      ],
      "text/plain": [
       "<IPython.core.display.HTML object>"
      ]
     },
     "execution_count": 2,
     "metadata": {},
     "output_type": "execute_result"
    }
   ],
   "source": [
    "HTML('<a href=\"http://example.com\">link</a>')"
   ]
  },
  {
   "cell_type": "code",
   "execution_count": 5,
   "metadata": {},
   "outputs": [
    {
     "data": {
      "text/html": [
       "<a href=\"http://example.com\">link</a>"
      ],
      "text/plain": [
       "<IPython.core.display.HTML object>"
      ]
     },
     "metadata": {},
     "output_type": "display_data"
    }
   ],
   "source": [
    "display(HTML('<a href=\"http://example.com\">link</a>'))"
   ]
  },
  {
   "cell_type": "code",
   "execution_count": null,
   "metadata": {},
   "outputs": [],
   "source": []
  }
 ],
 "metadata": {
  "kernelspec": {
   "display_name": "Python 3",
   "language": "python",
   "name": "python3"
  },
  "language_info": {
   "codemirror_mode": {
    "name": "ipython",
    "version": 3
   },
   "file_extension": ".py",
   "mimetype": "text/x-python",
   "name": "python",
   "nbconvert_exporter": "python",
   "pygments_lexer": "ipython3",
   "version": "3.7.3"
  }
 },
 "nbformat": 4,
 "nbformat_minor": 2
}
