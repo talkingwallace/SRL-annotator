{
 "cells": [
  {
   "cell_type": "code",
   "execution_count": 2,
   "metadata": {},
   "outputs": [
    {
     "name": "stdout",
     "output_type": "stream",
     "text": [
      "你(0) 最近(1) 有(2) 有(3) 关注(4) 过(5) 美国(6) 电影(7) 吗(8) ？\n",
      "有(10) 啊(11) ，不过(13) 都(14) 看完(15) 了(16) \n",
      "我(17) 这(18) 有(19) 一部(20) 美国(21) 电影(22) Dream(23) on(24) Silly(25) Dreamer(26) ，还(28) 获得(29) 过(30) 安妮奖(31) 呢(32) ！\n",
      "好(34) 的(35) ，有空(37) 我(38) 会(39) 去(40) 看(41) 一下(42) 。\n",
      "还有(44) 一部(45) 5(46) 年前(47) 上映(48) 的(49) 电影(50) ，是(52) 纪录片(53) ，我(55) 感觉(56) 拍(57) 的(58) 还是(59) 挺不错(60) 的(61) ，你(63) 可以(64) 看看(65) 。\n",
      "是(67) 吗(68) ？我(70) 最喜欢(71) 观看(72) 记录片(73) 了(74) ，你(76) 能(77) 告诉我(78) 是(79) 什么(80) 电影(81) 吗(82) ？\n",
      "当然(84) 可以(85) 了(86) ，是(88) Victor(89) Borge(90) 主演(91) 的(92) 全世界(93) 最搞笑(94) 的(95) 人(96) 。\n",
      "谢谢(98) ，我(100) 有(101) 时间(102) 看看(103) 。\n",
      "\n",
      "0\n"
     ]
    },
    {
     "data": {
      "application/vnd.jupyter.widget-view+json": {
       "model_id": "4f4c9bafa9f54d11ac7c08c2dba21a8e",
       "version_major": 2,
       "version_minor": 0
      },
      "text/plain": [
       "HBox(children=(VBox(children=(Text(value='', description='predicate', layout=Layout(width='80%')), Text(value=…"
      ]
     },
     "metadata": {},
     "output_type": "display_data"
    },
    {
     "data": {
      "application/vnd.jupyter.widget-view+json": {
       "model_id": "fdea605575c84a2da9569eb97e554d35",
       "version_major": 2,
       "version_minor": 0
      },
      "text/plain": [
       "HBox(children=(Button(description='Submit', style=ButtonStyle()), Button(description='Next Sentence', style=Bu…"
      ]
     },
     "metadata": {},
     "output_type": "display_data"
    },
    {
     "name": "stdout",
     "output_type": "stream",
     "text": [
      "progress:0/2000\n"
     ]
    }
   ],
   "source": [
    "import database as db\n",
    "import ipywidgets as widgets\n",
    "from ipywidgets import Button, Layout\n",
    "from IPython.display import display,clear_output\n",
    "from ipywidgets import Button, HBox, VBox\n",
    "import traceback\n",
    "\n",
    "dm = db.DataManager('default','./to_annotate/dev2.txt')\n",
    "\n",
    "args_type = ['arg0','arg1','arg2','arg4','loc','tmp','prp']\n",
    "arg_list = []\n",
    "pred_input = widgets.Text(description='predicate',layout=Layout(width='80%'))\n",
    "for arg_str in args_type:\n",
    "    arg_list.append(widgets.Text(description=arg_str,layout=Layout(width='80%')))\n",
    "left_box = VBox([pred_input]+arg_list[0:3],layout=Layout(width='30%'))\n",
    "right_box = VBox(arg_list[3:],layout=Layout(width='30%'))\n",
    "box = HBox([left_box,right_box])\n",
    "\n",
    "def load_data(dm,sentid):\n",
    "    \n",
    "    data = dm.data\n",
    "    punctuation = ['。', '，', '？', '&', '！', '@', '；', '（', '）', '、']\n",
    "    record = data['id2sent'][sentid]\n",
    "    record = record.split(' ')\n",
    "    i = 0\n",
    "    conversation = ''\n",
    "    for word in record:\n",
    "        if word in punctuation:\n",
    "            conversation += word\n",
    "            i += 1\n",
    "            continue\n",
    "        if word == '<SEP>':\n",
    "            conversation += '\\n'\n",
    "            continue\n",
    "\n",
    "        conversation += word+'({}) '.format(i)\n",
    "        i += 1\n",
    "    print(conversation)\n",
    "    print(len(dm.data['done']))\n",
    "\n",
    "def display_all():\n",
    "    display(box)\n",
    "    display(button_box)\n",
    "    print('progress:{}/{}'.format(dm.cur_idx,len(dm.todo)))\n",
    "\n",
    "def submit_result(b):\n",
    "    id_ = dm.fetch_next()\n",
    "    try:\n",
    "        arg_dict = {}\n",
    "        pred_idx = int(pred_input.value)\n",
    "        pred_input.value = ''\n",
    "        for idx,t in enumerate(arg_list):\n",
    "            if t.value != '':\n",
    "                val = t.value.split(',')\n",
    "                val = [int(i) for i in val]\n",
    "                if len(val) == 1:\n",
    "                    val.append(val[0])\n",
    "                assert val[1] >= val[0]\n",
    "                arg_dict[args_type[idx]] = val\n",
    "                t.value =  ''\n",
    "        id_ = dm.fetch_next()\n",
    "        dm.save(id_,pred_idx,arg_dict)\n",
    "        print('just commit: pred:',pred_idx,'arg:',arg_dict)\n",
    "    except:\n",
    "        print('error! please examine the input format')\n",
    "        traceback.print_exc()\n",
    "\n",
    "def next_sentence(b):\n",
    "    dm.commit()\n",
    "    id_ = dm.fetch_next()\n",
    "    clear_output()\n",
    "    load_data(dm,id_)\n",
    "    display_all()\n",
    "    \n",
    "def save(b):\n",
    "    dm.data.sync()\n",
    "    dm.data.close()\n",
    "    clear_output()\n",
    "    print('save done!')\n",
    "    \n",
    "submit_button = widgets.Button(description=\"Submit\",)\n",
    "next_button = widgets.Button(description='Next Sentence')\n",
    "save_button = widgets.Button(description='Save and Quit')\n",
    "button_box = HBox([submit_button,next_button,save_button])\n",
    "next_button.on_click(next_sentence)\n",
    "submit_button.on_click(submit_result)\n",
    "save_button.on_click(save)\n",
    "\n",
    "id_ = dm.fetch_next()\n",
    "load_data(dm,id_)\n",
    "display_all()"
   ]
  }
 ],
 "metadata": {
  "kernelspec": {
   "display_name": "Python 3",
   "language": "python",
   "name": "python3"
  },
  "language_info": {
   "codemirror_mode": {
    "name": "ipython",
    "version": 3
   },
   "file_extension": ".py",
   "mimetype": "text/x-python",
   "name": "python",
   "nbconvert_exporter": "python",
   "pygments_lexer": "ipython3",
   "version": "3.7.3"
  }
 },
 "nbformat": 4,
 "nbformat_minor": 2
}
