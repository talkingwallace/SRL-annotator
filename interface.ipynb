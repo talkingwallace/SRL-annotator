{
 "cells": [
  {
   "cell_type": "code",
   "execution_count": 1,
   "metadata": {
    "pycharm": {
     "is_executing": false
    }
   },
   "outputs": [
    {
     "name": "stdout",
     "output_type": "stream",
     "text": [
      "sentid: -9009965197926563780\n"
     ]
    },
    {
     "data": {
      "text/html": [
       "口碑(0) 一般(1) 的(2) 电影(3) <b>看(4) </b><b>不看(5) </b>？<br><b>没有(7) </b>好看(8) 的(9) 我(10) <b>会(11) </b><b>看(12) </b>。<br>捕蝇纸(14) 这部(15) 电影(16) ，跟(18) <b>看(19) </b>柯南(20) 一样(21) 。<br>那(23) <b>应该(24) </b>还不错(25) 啊(26) ！<br><b>是(28) </b>的(29) ，我(31) 再(32) <b>给(33) </b>你(34) <b>推荐(35) </b>一部(36) 电影(37) <b>叫(38) </b>海豚湾(39) ，<b>是(41) </b><b>出自(42) </b>美国(43) 的(44) 影片(45) 哦(46) ！<br><b>听(48) </b>名字(49) 就(50) <b>很喜欢(51) </b>。<br>网评(53) <b>上(54) </b><b>说(55) </b>人类(56) <b>是(57) </b>万恶之源(58) ，正义(60) 的(61) 事情(62) <b>让(63) </b>我相信(64) 良心(65) 的(66) 存在(67) ，你(69) 也(70) <b>去(71) </b><b>感受(72) </b><b>感受(73) </b>。<br>我(75) <b>下班(76) </b>就(77) <b>去(78) </b><b>欣赏(79) </b><b>欣赏(80) </b>。<br>"
      ],
      "text/plain": [
       "<IPython.core.display.HTML object>"
      ]
     },
     "metadata": {},
     "output_type": "display_data"
    },
    {
     "name": "stdout",
     "output_type": "stream",
     "text": [
      "possible predicate:\n",
      "['看(4) ', '不看(5) ', '没有(7) ', '会(11) ', '看(12) ', '看(19) ', '应该(24) ', '是(28) ', '给(33) ', '推荐(35) ', '叫(38) ', '是(41) ', '出自(42) ', '听(48) ', '很喜欢(51) ', '上(54) ', '说(55) ', '是(57) ', '让(63) ', '去(71) ', '感受(72) ', '感受(73) ', '下班(76) ', '去(78) ', '欣赏(79) ', '欣赏(80) ']\n"
     ]
    },
    {
     "data": {
      "application/vnd.jupyter.widget-view+json": {
       "model_id": "c156e06c9278484098e199f6e8feffd2",
       "version_major": 2,
       "version_minor": 0
      },
      "text/plain": [
       "HBox(children=(VBox(children=(Text(value='', description='predicate', layout=Layout(width='80%')), Text(value=…"
      ]
     },
     "metadata": {},
     "output_type": "display_data"
    },
    {
     "data": {
      "application/vnd.jupyter.widget-view+json": {
       "model_id": "3f4161e9043c414baa434b07c859167f",
       "version_major": 2,
       "version_minor": 0
      },
      "text/plain": [
       "HBox(children=(Button(description='Pred submit', style=ButtonStyle()), Button(description='Sentence finish', s…"
      ]
     },
     "metadata": {},
     "output_type": "display_data"
    },
    {
     "name": "stdout",
     "output_type": "stream",
     "text": [
      "progress:22/9232\n"
     ]
    },
    {
     "data": {
      "application/vnd.jupyter.widget-view+json": {
       "model_id": "a3f236450a284374a830651ff366dfe0",
       "version_major": 2,
       "version_minor": 0
      },
      "text/plain": [
       "HBox(children=(Button(description='Prev', style=ButtonStyle()), Button(description='Next', style=ButtonStyle()…"
      ]
     },
     "metadata": {},
     "output_type": "display_data"
    },
    {
     "name": "stdout",
     "output_type": "stream",
     "text": [
      "output done!\n"
     ]
    }
   ],
   "source": [
    "import database as db\n",
    "import ipywidgets as widgets\n",
    "from ipywidgets import Layout\n",
    "from IPython.display import clear_output\n",
    "from ipywidgets import HBox, VBox\n",
    "from utils import search_by_index, search_by_pred, load_data, display_all\n",
    "import traceback\n",
    "\n",
    "dm = db.DataManager('default','./to_annotate/wu.txt')\n",
    "\n",
    "\n",
    "args_type = ['arg0','arg1','arg2', 'arg3','arg4','loc','tmp','prp']\n",
    "arg_list = []\n",
    "pred_input = widgets.Text(description='predicate',layout=Layout(width='80%'))\n",
    "for arg_str in args_type:\n",
    "    arg_list.append(widgets.Text(description=arg_str,layout=Layout(width='80%')))\n",
    "search_pred_input = widgets.Text(description='Pred search', layout=Layout(width=\"80%\"))\n",
    "search_index_input = widgets.Text(description='Index search', layout=Layout(width=\"80%\"))\n",
    "search_button = widgets.Button(description='Search')\n",
    "left_box = VBox([pred_input]+arg_list[0:3],layout=Layout(width='30%'))\n",
    "right_box = VBox(arg_list[3:],layout=Layout(width='30%'))\n",
    "# search_box = VBox([search_pred_input, search_index_input, search_button], layout=Layout(width=\"30%\"))\n",
    "# box = HBox([left_box,right_box, search_box])\n",
    "box = HBox([left_box,right_box])\n",
    "\n",
    "\n",
    "def submit_result(b):\n",
    "    id_ = dm.fetch_current()\n",
    "    try:\n",
    "        arg_dict = {}\n",
    "        pred_idx = int(pred_input.value)\n",
    "        pred_input.value = ''\n",
    "        for idx,t in enumerate(arg_list):\n",
    "            if t.value != '':\n",
    "                val = t.value.split(',')\n",
    "                val = [int(i) for i in val]\n",
    "                if len(val) == 1:\n",
    "                    val.append(val[0])\n",
    "                assert val[1] >= val[0]\n",
    "                arg_dict[args_type[idx]] = val\n",
    "                t.value =  ''\n",
    "        id_ = dm.fetch_current()\n",
    "        dm.save(id_,pred_idx,arg_dict)\n",
    "        print('just commit: pred:',pred_idx,'arg:',arg_dict)\n",
    "    except:\n",
    "        print('error! please examine the input format')\n",
    "        traceback.print_exc()\n",
    "\n",
    "def next_sentence(b):\n",
    "    dm.commit()\n",
    "    id_ = dm.fetch_current()\n",
    "    clear_output()\n",
    "    load_data(dm,id_)\n",
    "    display_all(dm, [box, left_btn_box], right_btn_box)\n",
    "    \n",
    "    \n",
    "def out(b):\n",
    "    db.output_annotations(dm.data)\n",
    "    print('output done!')\n",
    "\n",
    "def search(b):\n",
    "    pred_value = search_pred_input.value\n",
    "    index_value = search_index_input.value\n",
    "    if index_value != '':\n",
    "        if pred_value != '':\n",
    "            print('If pred and index value are both assigned, search results are based on index value.')\n",
    "        search_by_index(dm, index_value)\n",
    "    elif pred_value != '':\n",
    "        search_by_pred(dm, pred_value)\n",
    "    else:\n",
    "        print('error!!! You must assign the value of pred or index.')\n",
    "\n",
    "def previous(b):\n",
    "    __id = dm.fetch_prev()\n",
    "    if __id == -1:\n",
    "        print('There is no previous reocrd. It is the first one.')\n",
    "    else:\n",
    "        clear_output()\n",
    "        load_data(dm, __id)\n",
    "        display_all(dm, [box, left_btn_box], right_btn_box)\n",
    "\n",
    "def next_page(b):\n",
    "    __id = dm.fetch_next()\n",
    "    clear_output()\n",
    "    load_data(dm, __id)\n",
    "    display_all(dm, [box, left_btn_box], right_btn_box)\n",
    "\n",
    "def jump_by_index(b):\n",
    "    index = int(jump_to.value)\n",
    "    __id = dm.fetch_by_index(index)\n",
    "    clear_output()\n",
    "    load_data(dm, __id)\n",
    "    display_all(dm, [box, left_btn_box], right_btn_box)\n",
    "    \n",
    "submit_button = widgets.Button(description=\"Pred submit\",)\n",
    "sent_submit_btn = widgets.Button(description='Sentence finish')\n",
    "out_button = widgets.Button(description='Ouput result to json')\n",
    "\n",
    "previous_btn = widgets.Button(description='Prev')\n",
    "next_page_btn = widgets.Button(description='Next')\n",
    "jump_to = widgets.Text(description='Jump to', layout=Layout(width='30%'))\n",
    "jump_to_btn = widgets.Button(description='Jump')\n",
    "\n",
    "left_btn_box = HBox([submit_button, sent_submit_btn, out_button])\n",
    "right_btn_box = HBox([previous_btn, next_page_btn, jump_to, jump_to_btn])\n",
    "\n",
    "out_button.on_click(out)\n",
    "sent_submit_btn.on_click(next_sentence)\n",
    "submit_button.on_click(submit_result)\n",
    "search_button.on_click(search)\n",
    "previous_btn.on_click(previous)\n",
    "next_page_btn.on_click(next_page)\n",
    "jump_to_btn.on_click(jump_by_index)\n",
    "\n",
    "\n",
    "id_ = dm.fetch_current()\n",
    "load_data(dm,id_)\n",
    "display_all(dm, [box, left_btn_box], right_btn_box)"
   ]
  },
  {
   "cell_type": "code",
   "execution_count": null,
   "metadata": {},
   "outputs": [],
   "source": []
  }
 ],
 "metadata": {
  "kernelspec": {
   "display_name": "Python [conda env:py37torch12] *",
   "language": "python",
   "name": "conda-env-py37torch12-py"
  },
  "language_info": {
   "codemirror_mode": {
    "name": "ipython",
    "version": 3
   },
   "file_extension": ".py",
   "mimetype": "text/x-python",
   "name": "python",
   "nbconvert_exporter": "python",
   "pygments_lexer": "ipython3",
   "version": "3.7.4"
  },
  "pycharm": {
   "stem_cell": {
    "cell_type": "raw",
    "metadata": {
     "collapsed": false
    },
    "source": []
   }
  }
 },
 "nbformat": 4,
 "nbformat_minor": 2
}
