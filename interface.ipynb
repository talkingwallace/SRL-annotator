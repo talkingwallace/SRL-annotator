{
 "cells": [
  {
   "cell_type": "code",
   "execution_count": 1,
   "metadata": {
    "pycharm": {
     "is_executing": false
    }
   },
   "outputs": [
    {
     "data": {
      "text/html": [
       "<b>有(0) </b>一部(1) 电影(2) 票房(3) 3807.1万(4) 挺(5) 好看(6) 。<br>票房(8) 还(9) 不少(10) 呢(11) ？<b>叫(13) </b>什么(14) 名字(15) 啊(16) ？<br>电影(18) <b>叫(19) </b>战神纪(20) 挺(21) 好看(22) 的(23) ，<b>看(25) </b><b>过(26) </b>吗(27) ？<br>哦(29) ，这部(31) 啊(32) ，我(34) <b>看(35) </b><b>过(36) </b>了(37) 。<br>对于(39) 这部(40) 电影(41) ，时光网(43) 短评(44) <b>说(45) </b>铁木真(46) ，呵呵(48) 了(49) ，这(51) 垃圾(52) IP(53) <br>不(54) <b>应该(55) </b>吧(56) ，我(58) <b>觉得(59) </b><b>拍(60) </b>的(61) 不错(62) 啊(63) <br>那(64) 它(65) 的(66) <b>导演(67) </b>哈斯朝鲁(68) ，你(70) <b>知道(71) </b>吗(72) ，他(74) <b>是(75) </b>蒙古族人(76) 呢(77) <br><b>是(78) </b>吗(79) ，我(81) 倒是(82) 没(83) 怎么(84) <b>去了解(85) </b><br>"
      ],
      "text/plain": [
       "<IPython.core.display.HTML object>"
      ]
     },
     "metadata": {},
     "output_type": "display_data"
    },
    {
     "name": "stdout",
     "output_type": "stream",
     "text": [
      "possible predicate:\n",
      "['有(0) ', '叫(13) ', '叫(19) ', '看(25) ', '过(26) ', '看(35) ', '过(36) ', '说(45) ', '应该(55) ', '觉得(59) ', '拍(60) ', '导演(67) ', '知道(71) ', '是(75) ', '是(78) ', '去了解(85) ']\n",
      "Done labels:\n",
      "pred: 有(0)\targ1: 一部电影票房3807.1万(1,4)\t\n",
      "pred: 叫(13)\targ0: 电影(2,2)\targ1: 什么名字(14,15)\t\n",
      "pred: 叫(19)\targ0: 电影(18,18)\targ1: 战神纪(20,20)\t\n",
      "pred: 看(25)\targ0: 你(-2)\targ1: 战神纪(20,20)\t\n",
      "pred: 看(35)\targ0: 我(34,34)\targ1: 战神纪(20,20)\t\n",
      "pred: 说(45)\targ0: 时光网短评(43,44)\targ1: 铁木真(46,46)\t\n",
      "pred: 应该(55)\t\n",
      "pred: 觉得(59)\targ0: 我(58,58)\targ1: 拍的不错(60,62)\t\n",
      "pred: 拍(60)\targ1: 不错(62,62)\targ2: 战神纪(20,20)\t\n",
      "pred: 知道(71)\targ0: 你(70,70)\targ1: 它的导演哈斯朝鲁(65,68)\t\n",
      "pred: 是(75)\targ0: 哈斯朝鲁(68,68)\targ1: 蒙古族人(76,76)\t\n",
      "pred: 是(78)\targ0: 哈斯朝鲁(68,68)\targ1: 蒙古族人(76,76)\t\n",
      "pred: 去了解(85)\targ0: 我(81,81)\targ1: 他是蒙古族人(74,76)\t\n"
     ]
    },
    {
     "data": {
      "application/vnd.jupyter.widget-view+json": {
       "model_id": "7afb3395b1e54d7685d663a37430bd73",
       "version_major": 2,
       "version_minor": 0
      },
      "text/plain": [
       "HBox(children=(VBox(children=(Text(value='', description='predicate', layout=Layout(width='80%')), Text(value=…"
      ]
     },
     "metadata": {},
     "output_type": "display_data"
    },
    {
     "data": {
      "application/vnd.jupyter.widget-view+json": {
       "model_id": "33b54ecf81b8402c993585f335e5a62d",
       "version_major": 2,
       "version_minor": 0
      },
      "text/plain": [
       "HBox(children=(HBox(children=(Button(description='Submit', style=ButtonStyle()), Button(description='Next Sent…"
      ]
     },
     "metadata": {},
     "output_type": "display_data"
    },
    {
     "name": "stdout",
     "output_type": "stream",
     "text": [
      "progress:117/9232\n"
     ]
    }
   ],
   "source": [
    "import database as db\n",
    "import ipywidgets as widgets\n",
    "from ipywidgets import Layout\n",
    "from IPython.display import clear_output\n",
    "from ipywidgets import HBox, VBox\n",
    "from utils import search_by_index, search_by_pred, load_data, display_all\n",
    "import traceback\n",
    "\n",
    "dm = db.DataManager('default','./to_annotate/wu.txt')\n",
    "\n",
    "\n",
    "args_type = ['arg0','arg1','arg2', 'arg3','arg4','loc','tmp','prp']\n",
    "arg_list = []\n",
    "pred_input = widgets.Text(description='predicate',layout=Layout(width='80%'))\n",
    "for arg_str in args_type:\n",
    "    arg_list.append(widgets.Text(description=arg_str,layout=Layout(width='80%')))\n",
    "search_pred_input = widgets.Text(description='Pred search', layout=Layout(width=\"80%\"))\n",
    "search_index_input = widgets.Text(description='Index search', layout=Layout(width=\"80%\"))\n",
    "search_button = widgets.Button(description='Search')\n",
    "left_box = VBox([pred_input]+arg_list[0:3],layout=Layout(width='30%'))\n",
    "right_box = VBox(arg_list[3:],layout=Layout(width='30%'))\n",
    "search_box = VBox([search_pred_input, search_index_input, search_button], layout=Layout(width=\"30%\"))\n",
    "box = HBox([left_box,right_box, search_box])\n",
    "\n",
    "\n",
    "def submit_result(b):\n",
    "    id_ = dm.fetch_next()\n",
    "    try:\n",
    "        arg_dict = {}\n",
    "        pred_idx = int(pred_input.value)\n",
    "        pred_input.value = ''\n",
    "        for idx,t in enumerate(arg_list):\n",
    "            if t.value != '':\n",
    "                val = t.value.split(',')\n",
    "                val = [int(i) for i in val]\n",
    "                if len(val) == 1:\n",
    "                    val.append(val[0])\n",
    "                assert val[1] >= val[0]\n",
    "                arg_dict[args_type[idx]] = val\n",
    "                t.value =  ''\n",
    "        id_ = dm.fetch_next()\n",
    "        dm.save(id_,pred_idx,arg_dict)\n",
    "        print('just commit: pred:',pred_idx,'arg:',arg_dict)\n",
    "    except:\n",
    "        print('error! please examine the input format')\n",
    "        traceback.print_exc()\n",
    "\n",
    "def next_sentence(b):\n",
    "    dm.commit()\n",
    "    id_ = dm.fetch_next()\n",
    "    clear_output()\n",
    "    load_data(dm,id_)\n",
    "    display_all(dm, [box, button_box])\n",
    "    \n",
    "    \n",
    "def out(b):\n",
    "    db.output_annotations(dm.data)\n",
    "    print('output done!')\n",
    "\n",
    "def search(b):\n",
    "    pred_value = search_pred_input.value\n",
    "    index_value = search_index_input.value\n",
    "    if index_value != '':\n",
    "        if pred_value != '':\n",
    "            print('If pred and index value are both assigned, search results are based on index value.')\n",
    "        search_by_index(dm, index_value)\n",
    "    elif pred_value != '':\n",
    "        search_by_pred(dm, pred_value)\n",
    "    else:\n",
    "        print('error!!! You must assign the value of pred or index.')\n",
    "\n",
    "def previous(b):\n",
    "    __id = dm.fetch_prev()\n",
    "    if __id == -1:\n",
    "        print('There is no previous reocrd. It is the first one.')\n",
    "    else:\n",
    "        dm.data.sync()\n",
    "        clear_output()\n",
    "        load_data(dm, __id)\n",
    "        display_all(dm, [box, button_box])\n",
    "        \n",
    "    \n",
    "submit_button = widgets.Button(description=\"Submit\",)\n",
    "next_button = widgets.Button(description='Next Sentence')\n",
    "out_button = widgets.Button(description='Ouput result to json')\n",
    "\n",
    "previous_btn = widgets.Button(description='Previous page')\n",
    "jump_to = widgets.Text(description='Jump to', layout=Layout(width='30%'))\n",
    "jump_to_btn = widgets.Button(description='Jump')\n",
    "\n",
    "left_btn_box = HBox([submit_button, next_button, out_button])\n",
    "right_btn_box = HBox([previous_btn, jump_to, jump_to_btn])\n",
    "\n",
    "button_box = HBox([left_btn_box, right_btn_box])\n",
    "\n",
    "out_button.on_click(out)\n",
    "next_button.on_click(next_sentence)\n",
    "submit_button.on_click(submit_result)\n",
    "search_button.on_click(search)\n",
    "previous_btn.on_click(previous)\n",
    "\n",
    "\n",
    "id_ = dm.fetch_next()\n",
    "load_data(dm,id_)\n",
    "display_all(dm, [box, button_box])"
   ]
  },
  {
   "cell_type": "code",
   "execution_count": null,
   "metadata": {},
   "outputs": [],
   "source": []
  }
 ],
 "metadata": {
  "kernelspec": {
   "display_name": "Python 3",
   "language": "python",
   "name": "python3"
  },
  "language_info": {
   "codemirror_mode": {
    "name": "ipython",
    "version": 3
   },
   "file_extension": ".py",
   "mimetype": "text/x-python",
   "name": "python",
   "nbconvert_exporter": "python",
   "pygments_lexer": "ipython3",
   "version": "3.7.0"
  },
  "pycharm": {
   "stem_cell": {
    "cell_type": "raw",
    "metadata": {
     "collapsed": false
    },
    "source": []
   }
  }
 },
 "nbformat": 4,
 "nbformat_minor": 2
}
