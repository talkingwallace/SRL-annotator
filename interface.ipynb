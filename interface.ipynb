{
 "cells": [
  {
   "cell_type": "code",
   "execution_count": 1,
   "metadata": {
    "pycharm": {
     "is_executing": false
    }
   },
   "outputs": [
    {
     "name": "stdout",
     "output_type": "stream",
     "text": [
      "sentid: -9219003246964867061\n"
     ]
    },
    {
     "data": {
      "text/html": [
       "今天(0) 看电影(1) 了(2) 吗(3) ？<br>这个(5) 还(6) 真(7) <b>没有(8) </b>，上班(10) 比较(11) <b>忙(12) </b>。<br>今天(14) <b>看(15) </b>一部(16) 深渊(17) ，非常(19) 不错(20) ，<b>可以(22) </b><b>去(23) </b><b>看(24) </b>一下(25) 。<br><b>可以(27) </b>啊(28) ，晚上(30) <b>回家(31) </b>了(32) ，跟(34) 女朋友(35) 一起(36) <b>看(37) </b>。<br>你(39) <b>知道(40) </b>深渊(41) <b>是(42) </b>谁(43) 的(44) 代表作(45) 吗(46) ？<br><b>不知道(48) </b>，谁(50) 啊(51) ？<br>霍伊特耶特曼(53) ，他(55) 的(56) 哪(57) 部(58) 巨猩(59) 乔扬(60) 还(61) <b>提名(62) </b><b>过(63) </b>1999年(64) 第25届(65) 土星奖(66) 最佳(67) 特效(68) 呢(69) 。<br>我(71) 一定(72) <b>抽(73) </b>时间(74) <b>去(75) </b><b>看看(76) </b>。<br>"
      ],
      "text/plain": [
       "<IPython.core.display.HTML object>"
      ]
     },
     "metadata": {},
     "output_type": "display_data"
    },
    {
     "name": "stdout",
     "output_type": "stream",
     "text": [
      "possible predicate:\n",
      "['没有(8) ', '忙(12) ', '看(15) ', '可以(22) ', '去(23) ', '看(24) ', '可以(27) ', '回家(31) ', '看(37) ', '知道(40) ', '是(42) ', '不知道(48) ', '提名(62) ', '过(63) ', '抽(73) ', '去(75) ', '看看(76) ']\n"
     ]
    },
    {
     "data": {
      "application/vnd.jupyter.widget-view+json": {
       "model_id": "5cb6f104cd924ed0bb31a6e815412c88",
       "version_major": 2,
       "version_minor": 0
      },
      "text/plain": [
       "HBox(children=(VBox(children=(Text(value='', description='predicate', layout=Layout(width='80%')), Text(value=…"
      ]
     },
     "metadata": {},
     "output_type": "display_data"
    },
    {
     "data": {
      "application/vnd.jupyter.widget-view+json": {
       "model_id": "9efe9ac1e76e41fabff63331e6ef1d0c",
       "version_major": 2,
       "version_minor": 0
      },
      "text/plain": [
       "HBox(children=(Button(description='Pred submit', style=ButtonStyle()), Button(description='Sentence finish', s…"
      ]
     },
     "metadata": {},
     "output_type": "display_data"
    },
    {
     "name": "stdout",
     "output_type": "stream",
     "text": [
      "progress:0/7782\n"
     ]
    },
    {
     "data": {
      "application/vnd.jupyter.widget-view+json": {
       "model_id": "4fdfc6e2744a4d4c9d49b059b34c8721",
       "version_major": 2,
       "version_minor": 0
      },
      "text/plain": [
       "HBox(children=(Button(description='Prev', style=ButtonStyle()), Button(description='Next', style=ButtonStyle()…"
      ]
     },
     "metadata": {},
     "output_type": "display_data"
    }
   ],
   "source": [
    "import database as db\n",
    "import ipywidgets as widgets\n",
    "from ipywidgets import Layout\n",
    "from IPython.display import clear_output\n",
    "from ipywidgets import HBox, VBox\n",
    "from utils import search_by_index, search_by_pred, load_data, display_all\n",
    "import traceback\n",
    "\n",
    "dm = db.DataManager('default','./to_annotate/song.txt')\n",
    "\n",
    "\n",
    "args_type = ['arg0','arg1','arg2', 'arg3','arg4','loc','tmp','prp']\n",
    "arg_list = []\n",
    "pred_input = widgets.Text(description='predicate',layout=Layout(width='80%'))\n",
    "for arg_str in args_type:\n",
    "    arg_list.append(widgets.Text(description=arg_str,layout=Layout(width='80%')))\n",
    "search_pred_input = widgets.Text(description='Pred search', layout=Layout(width=\"80%\"))\n",
    "search_index_input = widgets.Text(description='Index search', layout=Layout(width=\"80%\"))\n",
    "search_button = widgets.Button(description='Search')\n",
    "left_box = VBox([pred_input]+arg_list[0:3],layout=Layout(width='30%'))\n",
    "right_box = VBox(arg_list[3:],layout=Layout(width='30%'))\n",
    "# search_box = VBox([search_pred_input, search_index_input, search_button], layout=Layout(width=\"30%\"))\n",
    "# box = HBox([left_box,right_box, search_box])\n",
    "box = HBox([left_box,right_box])\n",
    "\n",
    "\n",
    "def submit_result(b):\n",
    "    id_ = dm.fetch_current()\n",
    "    try:\n",
    "        arg_dict = {}\n",
    "        pred_idx = int(pred_input.value)\n",
    "        pred_input.value = ''\n",
    "        for idx,t in enumerate(arg_list):\n",
    "            if t.value != '':\n",
    "                val = t.value.split(',')\n",
    "                val = [int(i) for i in val]\n",
    "                if len(val) == 1:\n",
    "                    val.append(val[0])\n",
    "                assert val[1] >= val[0]\n",
    "                arg_dict[args_type[idx]] = val\n",
    "                t.value =  ''\n",
    "        id_ = dm.fetch_current()\n",
    "        dm.save(id_,pred_idx,arg_dict)\n",
    "        print('just commit: pred:',pred_idx,'arg:',arg_dict)\n",
    "    except:\n",
    "        print('error! please examine the input format')\n",
    "        traceback.print_exc()\n",
    "\n",
    "def next_sentence(b):\n",
    "    dm.commit()\n",
    "    id_ = dm.fetch_current()\n",
    "    clear_output()\n",
    "    load_data(dm,id_)\n",
    "    display_all(dm, [box, left_btn_box], right_btn_box)\n",
    "    \n",
    "    \n",
    "def out(b):\n",
    "    db.output_annotations(dm.data)\n",
    "    print('output done!')\n",
    "\n",
    "def search(b):\n",
    "    pred_value = search_pred_input.value\n",
    "    index_value = search_index_input.value\n",
    "    if index_value != '':\n",
    "        if pred_value != '':\n",
    "            print('If pred and index value are both assigned, search results are based on index value.')\n",
    "        search_by_index(dm, index_value)\n",
    "    elif pred_value != '':\n",
    "        search_by_pred(dm, pred_value)\n",
    "    else:\n",
    "        print('error!!! You must assign the value of pred or index.')\n",
    "\n",
    "def previous(b):\n",
    "    __id = dm.fetch_prev()\n",
    "    if __id == -1:\n",
    "        print('There is no previous reocrd. It is the first one.')\n",
    "    else:\n",
    "        clear_output()\n",
    "        load_data(dm, __id)\n",
    "        display_all(dm, [box, left_btn_box], right_btn_box)\n",
    "\n",
    "def next_page(b):\n",
    "    __id = dm.fetch_next()\n",
    "    clear_output()\n",
    "    load_data(dm, __id)\n",
    "    display_all(dm, [box, left_btn_box], right_btn_box)\n",
    "\n",
    "def jump_by_index(b):\n",
    "    index = int(jump_to.value)\n",
    "    __id = dm.fetch_by_index(index)\n",
    "    clear_output()\n",
    "    load_data(dm, __id)\n",
    "    display_all(dm, [box, left_btn_box], right_btn_box)\n",
    "    \n",
    "submit_button = widgets.Button(description=\"Pred submit\",)\n",
    "sent_submit_btn = widgets.Button(description='Sentence finish')\n",
    "out_button = widgets.Button(description='Ouput result to json')\n",
    "\n",
    "previous_btn = widgets.Button(description='Prev')\n",
    "next_page_btn = widgets.Button(description='Next')\n",
    "jump_to = widgets.Text(description='Jump to', layout=Layout(width='30%'))\n",
    "jump_to_btn = widgets.Button(description='Jump')\n",
    "\n",
    "left_btn_box = HBox([submit_button, sent_submit_btn, out_button])\n",
    "right_btn_box = HBox([previous_btn, next_page_btn, jump_to, jump_to_btn])\n",
    "\n",
    "out_button.on_click(out)\n",
    "sent_submit_btn.on_click(next_sentence)\n",
    "submit_button.on_click(submit_result)\n",
    "search_button.on_click(search)\n",
    "previous_btn.on_click(previous)\n",
    "next_page_btn.on_click(next_page)\n",
    "jump_to_btn.on_click(jump_by_index)\n",
    "\n",
    "\n",
    "id_ = dm.fetch_current()\n",
    "load_data(dm,id_)\n",
    "display_all(dm, [box, left_btn_box], right_btn_box)"
   ]
  },
  {
   "cell_type": "code",
   "execution_count": null,
   "metadata": {},
   "outputs": [],
   "source": []
  }
 ],
 "metadata": {
  "kernelspec": {
   "display_name": "Python 3",
   "language": "python",
   "name": "python3"
  },
  "language_info": {
   "codemirror_mode": {
    "name": "ipython",
    "version": 3
   },
   "file_extension": ".py",
   "mimetype": "text/x-python",
   "name": "python",
   "nbconvert_exporter": "python",
   "pygments_lexer": "ipython3",
   "version": "3.7.4"
  },
  "pycharm": {
   "stem_cell": {
    "cell_type": "raw",
    "metadata": {
     "collapsed": false
    },
    "source": []
   }
  }
 },
 "nbformat": 4,
 "nbformat_minor": 2
}
