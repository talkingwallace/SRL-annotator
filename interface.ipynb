{
 "cells": [
  {
   "cell_type": "code",
   "execution_count": 1,
   "metadata": {
    "pycharm": {
     "is_executing": false
    }
   },
   "outputs": [
    {
     "data": {
      "text/html": [
       "最近(0) <b>有(1) </b><b>关注(2) </b>什么(3) 电影(4) 吗(5) ？<br><b>没有(7) </b>。<br>由(9) 海伦娜(10) ·(11) 伯翰(12) ·(13) 卡特(14) <b>主演(15) </b>的(16) 僵尸新娘(17) 非常(18) 不错(19) ，还(21) <b>获得(22) </b>了(23) 安妮奖(24) ((25) 2006(26) ；第33届(28) )(29) <b>获奖(30) </b>乌布(31) ·(32) 伊沃克斯(33) 技术(34) 成就奖(35) 呢(36) 。<br>我(38) <b>有(39) </b>时间(40) <b>去(41) </b><b>关注(42) </b>一下(43) 。<br>这部(45) 电影(46) 里面(47) <b>还有(48) </b>一位(49) <b>主演(50) </b>我很喜欢(51) ，他(53) 还(54) 被提名(55) <b>为(56) </b>第77届(57) 奥斯卡奖(58) 最佳男主角(59) 呢(60) 。<br><b>主演(62) </b><b>是(63) </b>谁(64) 啊(65) ？<br>约翰尼(67) ·(68) 德普(69) ，不一样的天空(71) 也是(72) 他(73) <b>主演(74) </b>的(75) 。<br>这么(77) 厉害(78) 啊(79) ，<b>有(81) </b>时间(82) 我(83) 也(84) <b>关注(85) </b>下(86) 。<br>"
      ],
      "text/plain": [
       "<IPython.core.display.HTML object>"
      ]
     },
     "metadata": {},
     "output_type": "display_data"
    },
    {
     "name": "stdout",
     "output_type": "stream",
     "text": [
      "possible predicate:\n",
      "['有(1) ', '关注(2) ', '没有(7) ', '主演(15) ', '获得(22) ', '获奖(30) ', '有(39) ', '去(41) ', '关注(42) ', '还有(48) ', '主演(50) ', '为(56) ', '主演(62) ', '是(63) ', '主演(74) ', '有(81) ', '关注(85) ']\n",
      "Done labels:\n",
      "pred: 有(1)\targ0: 你(-2)\targ1: 关注什么电影吗(2,5)\ttmp: 最近(0,0)\t\n",
      "pred: 关注(2)\targ0: 你(-2)\targ1: 电影(4,4)\ttmp: 最近(0,0)\t\n",
      "pred: 没有(7)\targ0: 我(-1)\targ1: 关注什么电影(2,4)\t\n",
      "pred: 主演(15)\targ1: 僵尸新娘(17,17)\targ3: 由海伦娜·伯翰·卡特(9,14)\t\n",
      "pred: 获得(22)\targ0: 僵尸新娘(17,17)\targ1: 安妮奖(2006；第33届)获奖乌布·伊沃克斯技术成就奖(24,35)\t\n",
      "pred: 关注(42)\targ0: 我(38,38)\targ1: 僵尸新娘(17,17)\ttmp: 有时间(39,40)\t\n",
      "pred: 去(41)\targ0: 我(38,38)\targ1: 关注一下(42,43)\t\n",
      "pred: 去(41)\targ0: 我(38,38)\targ1: 关注一下(42,43)\ttmp: 有时间(39,40)\t\n",
      "pred: 还有(48)\targ1: 一位主演我很喜欢(49,51)\tloc: 这部电影里面(45,47)\t\n",
      "pred: 为(56)\targ0: 他(53,53)\targ4: 第77届奥斯卡奖最佳男主角(57,59)\t\n",
      "pred: 是(63)\targ0: 主演(62,62)\targ1: 谁(64,64)\t\n",
      "pred: 主演(74)\targ0: 约翰尼·德普(67,69)\targ1: 不一样的天空(71,71)\t\n",
      "pred: 关注(85)\targ0: 我(83,83)\targ1: 约翰尼·德普(67,69)\ttmp: 有时间(81,82)\t\n"
     ]
    },
    {
     "data": {
      "application/vnd.jupyter.widget-view+json": {
       "model_id": "a3c017475e2b4378b1c2f0596439af44",
       "version_major": 2,
       "version_minor": 0
      },
      "text/plain": [
       "HBox(children=(VBox(children=(Text(value='', description='predicate', layout=Layout(width='80%')), Text(value=…"
      ]
     },
     "metadata": {},
     "output_type": "display_data"
    },
    {
     "data": {
      "application/vnd.jupyter.widget-view+json": {
       "model_id": "020951c958e241758ff6958d9d6624a9",
       "version_major": 2,
       "version_minor": 0
      },
      "text/plain": [
       "HBox(children=(Button(description='Pred submit', style=ButtonStyle()), Button(description='Sentence finish', s…"
      ]
     },
     "metadata": {},
     "output_type": "display_data"
    },
    {
     "name": "stdout",
     "output_type": "stream",
     "text": [
      "progress:21/9232\n"
     ]
    },
    {
     "data": {
      "application/vnd.jupyter.widget-view+json": {
       "model_id": "5c2e4fcff94b4934b22ae70b739f20ba",
       "version_major": 2,
       "version_minor": 0
      },
      "text/plain": [
       "HBox(children=(Button(description='Prev', style=ButtonStyle()), Button(description='Next', style=ButtonStyle()…"
      ]
     },
     "metadata": {},
     "output_type": "display_data"
    }
   ],
   "source": [
    "import database as db\n",
    "import ipywidgets as widgets\n",
    "from ipywidgets import Layout\n",
    "from IPython.display import clear_output\n",
    "from ipywidgets import HBox, VBox\n",
    "from utils import search_by_index, search_by_pred, load_data, display_all\n",
    "import traceback\n",
    "\n",
    "dm = db.DataManager('default','./to_annotate/wu.txt')\n",
    "\n",
    "\n",
    "args_type = ['arg0','arg1','arg2', 'arg3','arg4','loc','tmp','prp']\n",
    "arg_list = []\n",
    "pred_input = widgets.Text(description='predicate',layout=Layout(width='80%'))\n",
    "for arg_str in args_type:\n",
    "    arg_list.append(widgets.Text(description=arg_str,layout=Layout(width='80%')))\n",
    "search_pred_input = widgets.Text(description='Pred search', layout=Layout(width=\"80%\"))\n",
    "search_index_input = widgets.Text(description='Index search', layout=Layout(width=\"80%\"))\n",
    "search_button = widgets.Button(description='Search')\n",
    "left_box = VBox([pred_input]+arg_list[0:3],layout=Layout(width='30%'))\n",
    "right_box = VBox(arg_list[3:],layout=Layout(width='30%'))\n",
    "search_box = VBox([search_pred_input, search_index_input, search_button], layout=Layout(width=\"30%\"))\n",
    "box = HBox([left_box,right_box, search_box])\n",
    "\n",
    "\n",
    "def submit_result(b):\n",
    "    id_ = dm.fetch_current()\n",
    "    try:\n",
    "        arg_dict = {}\n",
    "        pred_idx = int(pred_input.value)\n",
    "        pred_input.value = ''\n",
    "        for idx,t in enumerate(arg_list):\n",
    "            if t.value != '':\n",
    "                val = t.value.split(',')\n",
    "                val = [int(i) for i in val]\n",
    "                if len(val) == 1:\n",
    "                    val.append(val[0])\n",
    "                assert val[1] >= val[0]\n",
    "                arg_dict[args_type[idx]] = val\n",
    "                t.value =  ''\n",
    "        id_ = dm.fetch_current()\n",
    "        dm.save(id_,pred_idx,arg_dict)\n",
    "        print('just commit: pred:',pred_idx,'arg:',arg_dict)\n",
    "    except:\n",
    "        print('error! please examine the input format')\n",
    "        traceback.print_exc()\n",
    "\n",
    "def next_sentence(b):\n",
    "    dm.commit()\n",
    "    id_ = dm.fetch_current()\n",
    "    clear_output()\n",
    "    load_data(dm,id_)\n",
    "    display_all(dm, [box, left_btn_box], right_btn_box)\n",
    "    \n",
    "    \n",
    "def out(b):\n",
    "    db.output_annotations(dm.data)\n",
    "    print('output done!')\n",
    "\n",
    "def search(b):\n",
    "    pred_value = search_pred_input.value\n",
    "    index_value = search_index_input.value\n",
    "    if index_value != '':\n",
    "        if pred_value != '':\n",
    "            print('If pred and index value are both assigned, search results are based on index value.')\n",
    "        search_by_index(dm, index_value)\n",
    "    elif pred_value != '':\n",
    "        search_by_pred(dm, pred_value)\n",
    "    else:\n",
    "        print('error!!! You must assign the value of pred or index.')\n",
    "\n",
    "def previous(b):\n",
    "    __id = dm.fetch_prev()\n",
    "    if __id == -1:\n",
    "        print('There is no previous reocrd. It is the first one.')\n",
    "    else:\n",
    "        dm.data.sync()\n",
    "        clear_output()\n",
    "        load_data(dm, __id)\n",
    "        display_all(dm, [box, left_btn_box], right_btn_box)\n",
    "\n",
    "def next_page(b):\n",
    "    __id = dm.fetch_next()\n",
    "    clear_output()\n",
    "    load_data(dm, __id)\n",
    "    display_all(dm, [box, left_btn_box], right_btn_box)\n",
    "\n",
    "def jump_by_index(b):\n",
    "    index = int(jump_to.value)\n",
    "    __id = dm.fetch_by_index(index)\n",
    "    clear_output()\n",
    "    load_data(dm, __id)\n",
    "    display_all(dm, [box, left_btn_box], right_btn_box)\n",
    "    \n",
    "submit_button = widgets.Button(description=\"Pred submit\",)\n",
    "sent_submit_btn = widgets.Button(description='Sentence finish')\n",
    "out_button = widgets.Button(description='Ouput result to json')\n",
    "\n",
    "previous_btn = widgets.Button(description='Prev')\n",
    "next_page_btn = widgets.Button(description='Next')\n",
    "jump_to = widgets.Text(description='Jump to', layout=Layout(width='30%'))\n",
    "jump_to_btn = widgets.Button(description='Jump')\n",
    "\n",
    "left_btn_box = HBox([submit_button, sent_submit_btn, out_button])\n",
    "right_btn_box = HBox([previous_btn, next_page_btn, jump_to, jump_to_btn])\n",
    "\n",
    "# button_box = VBox([left_btn_box, right_btn_box])\n",
    "\n",
    "out_button.on_click(out)\n",
    "sent_submit_btn.on_click(next_sentence)\n",
    "submit_button.on_click(submit_result)\n",
    "search_button.on_click(search)\n",
    "previous_btn.on_click(previous)\n",
    "next_page_btn.on_click(next_page)\n",
    "jump_to_btn.on_click(jump_by_index)\n",
    "\n",
    "\n",
    "id_ = dm.fetch_next()\n",
    "load_data(dm,id_)\n",
    "display_all(dm, [box, left_btn_box], right_btn_box)"
   ]
  },
  {
   "cell_type": "code",
   "execution_count": null,
   "metadata": {},
   "outputs": [],
   "source": []
  }
 ],
 "metadata": {
  "kernelspec": {
   "display_name": "Python 3",
   "language": "python",
   "name": "python3"
  },
  "language_info": {
   "codemirror_mode": {
    "name": "ipython",
    "version": 3
   },
   "file_extension": ".py",
   "mimetype": "text/x-python",
   "name": "python",
   "nbconvert_exporter": "python",
   "pygments_lexer": "ipython3",
   "version": "3.7.0"
  },
  "pycharm": {
   "stem_cell": {
    "cell_type": "raw",
    "metadata": {
     "collapsed": false
    },
    "source": []
   }
  }
 },
 "nbformat": 4,
 "nbformat_minor": 2
}
