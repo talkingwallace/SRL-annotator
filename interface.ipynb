{
 "cells": [
  {
   "cell_type": "code",
   "execution_count": 1,
   "metadata": {
    "pycharm": {
     "is_executing": false
    },
    "scrolled": false
   },
   "outputs": [
    {
     "data": {
      "text/html": [
       "<b>喜欢(0) </b>动作片(1) 吗(2) ，<b>给(4) </b>你(5) <b>推荐(6) </b>一部(7) 。<br><b>喜欢(9) </b>啊(10) ，你(12) <b>推荐(13) </b>吧(14) ！<br>背水一战(16) ，<b>希望(18) </b>你(19) <b>能(20) </b><b>喜欢(21) </b>。<br>我(23) <b>看(24) </b><b>过(25) </b>了(26) ，<b>拍(28) </b>的(29) 还是(30) 不错(31) 的(32) 。<br>片子(34) 的(35) <b>导演(36) </b><b>是(37) </b>金知云(38) ，<b>导演(40) </b>的(41) 影片(42) 肯定(43) 不错(44) 。<br><b>是(46) </b>啊(47) ，<b>听说过(49) </b>他(50) 的(51) 大名(52) 。<br>他(54) 被(55) <b>称为(56) </b>鬼才(57) <b>导演(58) </b>呢(59) 。你(61) 还(62) <b>看(63) </b><b>过(64) </b>他(65) <b>导演(66) </b>的(67) 甜蜜的人生(68) 吗(69) ？<br><b>没有(71) </b>呢(72) ，一会(74) 我(75) <b>去(76) </b><b>查查(77) </b><b>看(78) </b>。<br>"
      ],
      "text/plain": [
       "<IPython.core.display.HTML object>"
      ]
     },
     "metadata": {},
     "output_type": "display_data"
    },
    {
     "name": "stdout",
     "output_type": "stream",
     "text": [
      "possible predicate:\n",
      "['喜欢(0) ', '给(4) ', '推荐(6) ', '喜欢(9) ', '推荐(13) ', '希望(18) ', '能(20) ', '喜欢(21) ', '看(24) ', '过(25) ', '拍(28) ', '导演(36) ', '是(37) ', '导演(40) ', '是(46) ', '听说过(49) ', '称为(56) ', '导演(58) ', '看(63) ', '过(64) ', '导演(66) ', '没有(71) ', '去(76) ', '查查(77) ', '看(78) ']\n"
     ]
    },
    {
     "data": {
      "application/vnd.jupyter.widget-view+json": {
       "model_id": "6bbfefc65b314b49bd31b58a121f9302",
       "version_major": 2,
       "version_minor": 0
      },
      "text/plain": [
       "HBox(children=(VBox(children=(Text(value='', description='predicate', layout=Layout(width='80%')), Text(value=…"
      ]
     },
     "metadata": {},
     "output_type": "display_data"
    },
    {
     "data": {
      "application/vnd.jupyter.widget-view+json": {
       "model_id": "71e4c4d515c34527b1c0932fc4ad4ebe",
       "version_major": 2,
       "version_minor": 0
      },
      "text/plain": [
       "HBox(children=(Button(description='Submit', style=ButtonStyle()), Button(description='Next Sentence', style=Bu…"
      ]
     },
     "metadata": {},
     "output_type": "display_data"
    },
    {
     "name": "stdout",
     "output_type": "stream",
     "text": [
      "progress:0/9232\n",
      "error! please examine the input format\n"
     ]
    },
    {
     "name": "stderr",
     "output_type": "stream",
     "text": [
      "Traceback (most recent call last):\n",
      "  File \"<ipython-input-1-42f4a1fff0c4>\", line 74, in submit_result\n",
      "    dm.save(id_,pred_idx,arg_dict)\n",
      "  File \"C:\\Users\\hahah\\PycharmProjects\\SRL-annotator\\database.py\", line 110, in save\n",
      "    save_annotations(self.data,sent_id,pred_idx,arg)\n",
      "  File \"C:\\Users\\hahah\\PycharmProjects\\SRL-annotator\\database.py\", line 49, in save_annotations\n",
      "    data['annotation'] = data['annotation'].append(new_row)\n",
      "AttributeError: 'set' object has no attribute 'append'\n"
     ]
    }
   ],
   "source": [
    "import database as db\n",
    "import ipywidgets as widgets\n",
    "from ipywidgets import Button, Layout\n",
    "from IPython.display import display,clear_output,HTML\n",
    "from ipywidgets import Button, HBox, VBox\n",
    "import traceback\n",
    "import os\n",
    "\n",
    "dm = db.DataManager('default','./to_annotate/wu.txt')\n",
    "\n",
    "verbs = None\n",
    "if os.path.exists('./to_annotate/verb.txt'):\n",
    "    verb_f = open('./to_annotate/verb.txt','r',encoding='utf-8')\n",
    "    verbs = verb_f.read().split('\\t\\n')[:-1]   \n",
    "\n",
    "args_type = ['arg0','arg1','arg2', 'arg3','arg4','loc','tmp','prp']\n",
    "arg_list = []\n",
    "pred_input = widgets.Text(description='predicate',layout=Layout(width='80%'))\n",
    "for arg_str in args_type:\n",
    "    arg_list.append(widgets.Text(description=arg_str,layout=Layout(width='80%')))\n",
    "left_box = VBox([pred_input]+arg_list[0:3],layout=Layout(width='30%'))\n",
    "right_box = VBox(arg_list[3:],layout=Layout(width='30%'))\n",
    "box = HBox([left_box,right_box])\n",
    "\n",
    "def load_data(dm,sentid):\n",
    "    \n",
    "    data = dm.data\n",
    "    punctuation = ['。', '，', '？', '&', '！', '@', '；', '（', '）', '、']\n",
    "    record = data['id2sent'][sentid]\n",
    "    record = record.split(' ')\n",
    "    i = 0\n",
    "    conversation = ''\n",
    "    predicate_suggests = []\n",
    "    for word in record:\n",
    "        if word in punctuation:\n",
    "            conversation += word\n",
    "            i += 1\n",
    "            continue\n",
    "        if word == '<SEP>':\n",
    "            conversation += '<br>'\n",
    "            continue\n",
    "        \n",
    "        new_append = word+'({}) '.format(i)\n",
    "        if verbs and word in verbs:\n",
    "            predicate_suggests.append(new_append)\n",
    "            new_append = '<b>' + new_append + '</b>'\n",
    "        conversation += new_append\n",
    "        i += 1\n",
    "    display(HTML(conversation))\n",
    "    print('possible predicate:')\n",
    "    print(predicate_suggests)\n",
    "\n",
    "def display_all():\n",
    "    display(box)\n",
    "    display(button_box)\n",
    "    print('progress:{}/{}'.format(dm.cur_idx,len(dm.todo)))\n",
    "\n",
    "def submit_result(b):\n",
    "    id_ = dm.fetch_next()\n",
    "    try:\n",
    "        arg_dict = {}\n",
    "        pred_idx = int(pred_input.value)\n",
    "        pred_input.value = ''\n",
    "        for idx,t in enumerate(arg_list):\n",
    "            if t.value != '':\n",
    "                val = t.value.split(',')\n",
    "                val = [int(i) for i in val]\n",
    "                if len(val) == 1:\n",
    "                    val.append(val[0])\n",
    "                assert val[1] >= val[0]\n",
    "                arg_dict[args_type[idx]] = val\n",
    "                t.value =  ''\n",
    "        id_ = dm.fetch_next()\n",
    "        dm.save(id_,pred_idx,arg_dict)\n",
    "        print('just commit: pred:',pred_idx,'arg:',arg_dict)\n",
    "    except:\n",
    "        print('error! please examine the input format')\n",
    "        traceback.print_exc()\n",
    "\n",
    "def next_sentence(b):\n",
    "    dm.commit()\n",
    "    id_ = dm.fetch_next()\n",
    "    clear_output()\n",
    "    load_data(dm,id_)\n",
    "    display_all()\n",
    "    \n",
    "def save(b):\n",
    "    dm.data.sync()\n",
    "    dm.data.close()\n",
    "    clear_output()\n",
    "    print('save done!')\n",
    "    \n",
    "def out(b):\n",
    "    db.output_annotations(dm.data)\n",
    "    print('output done!')\n",
    "    \n",
    "submit_button = widgets.Button(description=\"Submit\",)\n",
    "next_button = widgets.Button(description='Next Sentence')\n",
    "save_button = widgets.Button(description='Save and Quit')\n",
    "out_button = widgets.Button(description='Ouput result to json')\n",
    "button_box = HBox([submit_button,next_button,save_button,out_button])\n",
    "\n",
    "out_button.on_click(out)\n",
    "next_button.on_click(next_sentence)\n",
    "submit_button.on_click(submit_result)\n",
    "save_button.on_click(save)\n",
    "\n",
    "id_ = dm.fetch_next()\n",
    "load_data(dm,id_)\n",
    "display_all()"
   ]
  },
  {
   "cell_type": "code",
   "execution_count": null,
   "metadata": {
    "pycharm": {
     "is_executing": false
    }
   },
   "outputs": [],
   "source": []
  }
 ],
 "metadata": {
  "kernelspec": {
   "display_name": "Python 3",
   "language": "python",
   "name": "python3"
  },
  "language_info": {
   "codemirror_mode": {
    "name": "ipython",
    "version": 3
   },
   "file_extension": ".py",
   "mimetype": "text/x-python",
   "name": "python",
   "nbconvert_exporter": "python",
   "pygments_lexer": "ipython3",
   "version": "3.7.0"
  },
  "pycharm": {
   "stem_cell": {
    "cell_type": "raw",
    "metadata": {
     "collapsed": false
    },
    "source": []
   }
  }
 },
 "nbformat": 4,
 "nbformat_minor": 2
}
