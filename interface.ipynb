{
 "cells": [
  {
   "cell_type": "code",
   "execution_count": 1,
   "metadata": {
    "pycharm": {
     "is_executing": false
    }
   },
   "outputs": [
    {
     "data": {
      "text/html": [
       "80后(0) 和(1) 90后(2) <b>有(3) </b>很大(4) 差别(5) 吗(6) ？<br><b>不知道(8) </b>啊(9) 。<br>那(11) 你(12) <b>知道(13) </b>什么(14) ？<br>我(16) <b>知道(17) </b>他们(18) 不是(19) 一个(20) 年代(21) 的(22) 。<br>哦(24) ，你(26) <b>知道(27) </b>这个(28) 啊(29) ，那泽维尔(31) ·(32) 多兰(33) 你(34) <b>知道(35) </b>吗(36) ？<br>这(38) 人(39) 没(40) <b>听说过(41) </b>。<br>泽维尔(43) ·(44) 多兰(45) <b>是(46) </b>法国(47) 著名(48) 影星(49) 影星(50) ，他(52) <b>有(53) </b>一部(54) 代表作(55) 电影(56) 非常(57) 好看(58) ,(59) 当时(60) 非常(61) 火爆(62) <b>不知道(63) </b>你(64) <b>看(65) </b><b>过(66) </b><b>没有(67) </b>啊(68) ?(69) <br>那(70) 部(71) 啊(72) ？<br>只是(74) 世界(75) 尽头(76) ，<b>是(78) </b>一部(79) :(80) 2016年9月21日(81) <b>上映(82) </b>的(83) 电影(84) ，当时(86) 风靡(87) 全球(88) 呢(89) ，你(91) <b>要(92) </b><b>没看过(93) </b>赶紧(94) <b>去(95) </b><b>看看(96) </b>。<br><b>是(98) </b>吗(99) ，我(101) 赶紧(102) <b>去(103) </b><b>搜搜(104) </b><b>看(105) </b>。<br>"
      ],
      "text/plain": [
       "<IPython.core.display.HTML object>"
      ]
     },
     "metadata": {},
     "output_type": "display_data"
    },
    {
     "name": "stdout",
     "output_type": "stream",
     "text": [
      "possible predicate:\n",
      "['有(3) ', '不知道(8) ', '知道(13) ', '知道(17) ', '知道(27) ', '知道(35) ', '听说过(41) ', '是(46) ', '有(53) ', '不知道(63) ', '看(65) ', '过(66) ', '没有(67) ', '是(78) ', '上映(82) ', '要(92) ', '没看过(93) ', '去(95) ', '看看(96) ', '是(98) ', '去(103) ', '搜搜(104) ', '看(105) ']\n"
     ]
    },
    {
     "data": {
      "application/vnd.jupyter.widget-view+json": {
       "model_id": "36dcb57fb4364a879f428511030f861e",
       "version_major": 2,
       "version_minor": 0
      },
      "text/plain": [
       "HBox(children=(VBox(children=(Text(value='', description='predicate', layout=Layout(width='80%')), Text(value=…"
      ]
     },
     "metadata": {},
     "output_type": "display_data"
    },
    {
     "data": {
      "application/vnd.jupyter.widget-view+json": {
       "model_id": "2d5d7d4fe0c148438f9ac65d16dc4f1e",
       "version_major": 2,
       "version_minor": 0
      },
      "text/plain": [
       "HBox(children=(Button(description='Submit', style=ButtonStyle()), Button(description='Next Sentence', style=Bu…"
      ]
     },
     "metadata": {},
     "output_type": "display_data"
    },
    {
     "name": "stdout",
     "output_type": "stream",
     "text": [
      "progress:0/9223\n",
      "output done!\n"
     ]
    }
   ],
   "source": [
    "import database as db\n",
    "import ipywidgets as widgets\n",
    "from ipywidgets import Button, Layout\n",
    "from IPython.display import display,clear_output,HTML\n",
    "from ipywidgets import Button, HBox, VBox\n",
    "import traceback\n",
    "import os\n",
    "\n",
    "dm = db.DataManager('default','./to_annotate/wu.txt')\n",
    "\n",
    "verbs = None\n",
    "if os.path.exists('./to_annotate/verb.txt'):\n",
    "    verb_f = open('./to_annotate/verb.txt','r',encoding='utf-8')\n",
    "    verbs = verb_f.read().split('\\t\\n')[:-1]   \n",
    "\n",
    "args_type = ['arg0','arg1','arg2', 'arg3','arg4','loc','tmp','prp']\n",
    "arg_list = []\n",
    "pred_input = widgets.Text(description='predicate',layout=Layout(width='80%'))\n",
    "for arg_str in args_type:\n",
    "    arg_list.append(widgets.Text(description=arg_str,layout=Layout(width='80%')))\n",
    "left_box = VBox([pred_input]+arg_list[0:3],layout=Layout(width='30%'))\n",
    "right_box = VBox(arg_list[3:],layout=Layout(width='30%'))\n",
    "box = HBox([left_box,right_box])\n",
    "\n",
    "def load_data(dm,sentid):\n",
    "    \n",
    "    data = dm.data\n",
    "    punctuation = ['。', '，', '？', '&', '！', '@', '；', '（', '）', '、']\n",
    "    record = data['id2sent'][sentid]\n",
    "    record = record.split(' ')\n",
    "    i = 0\n",
    "    conversation = ''\n",
    "    predicate_suggests = []\n",
    "    for word in record:\n",
    "        if word in punctuation:\n",
    "            conversation += word\n",
    "            i += 1\n",
    "            continue\n",
    "        if word == '<SEP>':\n",
    "            conversation += '<br>'\n",
    "            continue\n",
    "        \n",
    "        new_append = word+'({}) '.format(i)\n",
    "        if verbs and word in verbs:\n",
    "            predicate_suggests.append(new_append)\n",
    "            new_append = '<b>' + new_append + '</b>'\n",
    "        conversation += new_append\n",
    "        i += 1\n",
    "    display(HTML(conversation))\n",
    "    print('possible predicate:')\n",
    "    print(predicate_suggests)\n",
    "\n",
    "def display_all():\n",
    "    display(box)\n",
    "    display(button_box)\n",
    "    print('progress:{}/{}'.format(dm.cur_idx,len(dm.todo)))\n",
    "\n",
    "def submit_result(b):\n",
    "    id_ = dm.fetch_next()\n",
    "    try:\n",
    "        arg_dict = {}\n",
    "        pred_idx = int(pred_input.value)\n",
    "        pred_input.value = ''\n",
    "        for idx,t in enumerate(arg_list):\n",
    "            if t.value != '':\n",
    "                val = t.value.split(',')\n",
    "                val = [int(i) for i in val]\n",
    "                if len(val) == 1:\n",
    "                    val.append(val[0])\n",
    "                assert val[1] >= val[0]\n",
    "                arg_dict[args_type[idx]] = val\n",
    "                t.value =  ''\n",
    "        id_ = dm.fetch_next()\n",
    "        dm.save(id_,pred_idx,arg_dict)\n",
    "        print('just commit: pred:',pred_idx,'arg:',arg_dict)\n",
    "    except:\n",
    "        print('error! please examine the input format')\n",
    "        traceback.print_exc()\n",
    "\n",
    "def next_sentence(b):\n",
    "    dm.commit()\n",
    "    id_ = dm.fetch_next()\n",
    "    clear_output()\n",
    "    load_data(dm,id_)\n",
    "    display_all()\n",
    "    \n",
    "def save(b):\n",
    "    dm.data.sync()\n",
    "    dm.data.close()\n",
    "    clear_output()\n",
    "    print('save done!')\n",
    "    \n",
    "def out(b):\n",
    "    db.output_annotations(dm.data)\n",
    "    print('output done!')\n",
    "    \n",
    "submit_button = widgets.Button(description=\"Submit\",)\n",
    "next_button = widgets.Button(description='Next Sentence')\n",
    "save_button = widgets.Button(description='Save and Quit')\n",
    "out_button = widgets.Button(description='Ouput result to json')\n",
    "button_box = HBox([submit_button,next_button,save_button,out_button])\n",
    "\n",
    "out_button.on_click(out)\n",
    "next_button.on_click(next_sentence)\n",
    "submit_button.on_click(submit_result)\n",
    "save_button.on_click(save)\n",
    "\n",
    "id_ = dm.fetch_next()\n",
    "load_data(dm,id_)\n",
    "display_all()"
   ]
  },
  {
   "cell_type": "code",
   "execution_count": null,
   "metadata": {
    "pycharm": {
     "is_executing": false
    }
   },
   "outputs": [],
   "source": []
  }
 ],
 "metadata": {
  "kernelspec": {
   "display_name": "Python 3",
   "language": "python",
   "name": "python3"
  },
  "language_info": {
   "codemirror_mode": {
    "name": "ipython",
    "version": 3
   },
   "file_extension": ".py",
   "mimetype": "text/x-python",
   "name": "python",
   "nbconvert_exporter": "python",
   "pygments_lexer": "ipython3",
   "version": "3.7.0"
  },
  "pycharm": {
   "stem_cell": {
    "cell_type": "raw",
    "metadata": {
     "collapsed": false
    },
    "source": []
   }
  }
 },
 "nbformat": 4,
 "nbformat_minor": 2
}
