{
 "cells": [
  {
   "cell_type": "code",
   "execution_count": 3,
   "metadata": {
    "pycharm": {
     "is_executing": false
    }
   },
   "outputs": [
    {
     "data": {
      "text/html": [
       "我(0) <b>感觉(1) </b>香港(2) 遍地(3) <b>都是(4) </b>明星(5) 。<br>你(7) <b>喜欢(8) </b>哪个(9) 明星(10) 啊(11) ？<br>我(13) <b>喜欢(14) </b>一个(15) 老明星(16) ，<b>叫(18) </b>元彬(19) 。<br>我(21) <b>觉得(22) </b>挺好(23) 的(24) 。<br><b>还有(26) </b>一个(27) 演员(28) 跟(29) 元彬(30) <b>出演(31) </b><b>过(32) </b>一部(33) 戏(34) ，还(36) <b>获奖(37) </b>了(38) 呢(39) 。<br><b>是(41) </b>谁(42) 呢(43) ？<br>林峰(45) ，也是(47) 最佳(48) 动作(49) 设计(50) 奖(51) 。<br>那(53) 好(54) ，我(56) <b>去(57) </b><b>看看(58) </b>。<br>"
      ],
      "text/plain": [
       "<IPython.core.display.HTML object>"
      ]
     },
     "metadata": {},
     "output_type": "display_data"
    },
    {
     "name": "stdout",
     "output_type": "stream",
     "text": [
      "possible predicate:\n",
      "['感觉(1) ', '都是(4) ', '喜欢(8) ', '喜欢(14) ', '叫(18) ', '觉得(22) ', '还有(26) ', '出演(31) ', '过(32) ', '获奖(37) ', '是(41) ', '去(57) ', '看看(58) ']\n"
     ]
    },
    {
     "data": {
      "application/vnd.jupyter.widget-view+json": {
       "model_id": "499f643e793d489495f41be264e60428",
       "version_major": 2,
       "version_minor": 0
      },
      "text/plain": [
       "HBox(children=(VBox(children=(Text(value='', description='predicate', layout=Layout(width='80%')), Text(value=…"
      ]
     },
     "metadata": {},
     "output_type": "display_data"
    },
    {
     "data": {
      "application/vnd.jupyter.widget-view+json": {
       "model_id": "6a73efe74332425d96852ac45300873d",
       "version_major": 2,
       "version_minor": 0
      },
      "text/plain": [
       "HBox(children=(Button(description='Submit', style=ButtonStyle()), Button(description='Next Sentence', style=Bu…"
      ]
     },
     "metadata": {},
     "output_type": "display_data"
    },
    {
     "name": "stdout",
     "output_type": "stream",
     "text": [
      "progress:0/9224\n",
      "just commit: pred: 1 arg: {'arg0': [0, 0], 'arg1': [2, 5]}\n",
      "just commit: pred: 4 arg: {'arg1': [5, 5], 'loc': [2, 3]}\n",
      "just commit: pred: 8 arg: {'arg0': [7, 7], 'arg1': [9, 10]}\n"
     ]
    }
   ],
   "source": [
    "import database as db\n",
    "import ipywidgets as widgets\n",
    "from ipywidgets import Button, Layout\n",
    "from IPython.display import display,clear_output,HTML\n",
    "from ipywidgets import Button, HBox, VBox\n",
    "import traceback\n",
    "import os\n",
    "\n",
    "dm = db.DataManager('default','./to_annotate/wu.txt')\n",
    "\n",
    "verbs = None\n",
    "if os.path.exists('./to_annotate/verb.txt'):\n",
    "    verb_f = open('./to_annotate/verb.txt','r',encoding='utf-8')\n",
    "    verbs = verb_f.read().split('\\t\\n')[:-1]   \n",
    "\n",
    "args_type = ['arg0','arg1','arg2', 'arg3','arg4','loc','tmp','prp']\n",
    "arg_list = []\n",
    "pred_input = widgets.Text(description='predicate',layout=Layout(width='80%'))\n",
    "for arg_str in args_type:\n",
    "    arg_list.append(widgets.Text(description=arg_str,layout=Layout(width='80%')))\n",
    "left_box = VBox([pred_input]+arg_list[0:3],layout=Layout(width='30%'))\n",
    "right_box = VBox(arg_list[3:],layout=Layout(width='30%'))\n",
    "box = HBox([left_box,right_box])\n",
    "\n",
    "def load_data(dm,sentid):\n",
    "    \n",
    "    data = dm.data\n",
    "    punctuation = ['。', '，', '？', '&', '！', '@', '；', '（', '）', '、']\n",
    "    record = data['id2sent'][sentid]\n",
    "    record = record.split(' ')\n",
    "    i = 0\n",
    "    conversation = ''\n",
    "    predicate_suggests = []\n",
    "    for word in record:\n",
    "        if word in punctuation:\n",
    "            conversation += word\n",
    "            i += 1\n",
    "            continue\n",
    "        if word == '<SEP>':\n",
    "            conversation += '<br>'\n",
    "            continue\n",
    "        \n",
    "        new_append = word+'({}) '.format(i)\n",
    "        if verbs and word in verbs:\n",
    "            predicate_suggests.append(new_append)\n",
    "            new_append = '<b>' + new_append + '</b>'\n",
    "        conversation += new_append\n",
    "        i += 1\n",
    "    display(HTML(conversation))\n",
    "    print('possible predicate:')\n",
    "    print(predicate_suggests)\n",
    "\n",
    "def display_all():\n",
    "    display(box)\n",
    "    display(button_box)\n",
    "    print('progress:{}/{}'.format(dm.cur_idx,len(dm.todo)))\n",
    "\n",
    "def submit_result(b):\n",
    "    id_ = dm.fetch_next()\n",
    "    try:\n",
    "        arg_dict = {}\n",
    "        pred_idx = int(pred_input.value)\n",
    "        pred_input.value = ''\n",
    "        for idx,t in enumerate(arg_list):\n",
    "            if t.value != '':\n",
    "                val = t.value.split(',')\n",
    "                val = [int(i) for i in val]\n",
    "                if len(val) == 1:\n",
    "                    val.append(val[0])\n",
    "                assert val[1] >= val[0]\n",
    "                arg_dict[args_type[idx]] = val\n",
    "                t.value =  ''\n",
    "        id_ = dm.fetch_next()\n",
    "        dm.save(id_,pred_idx,arg_dict)\n",
    "        print('just commit: pred:',pred_idx,'arg:',arg_dict)\n",
    "    except:\n",
    "        print('error! please examine the input format')\n",
    "        traceback.print_exc()\n",
    "\n",
    "def next_sentence(b):\n",
    "    dm.commit()\n",
    "    id_ = dm.fetch_next()\n",
    "    clear_output()\n",
    "    load_data(dm,id_)\n",
    "    display_all()\n",
    "    \n",
    "def save(b):\n",
    "    dm.data.sync()\n",
    "    dm.data.close()\n",
    "    clear_output()\n",
    "    print('save done!')\n",
    "    \n",
    "def out(b):\n",
    "    db.output_annotations(dm.data)\n",
    "    print('output done!')\n",
    "    \n",
    "submit_button = widgets.Button(description=\"Submit\",)\n",
    "next_button = widgets.Button(description='Next Sentence')\n",
    "save_button = widgets.Button(description='Save and Quit')\n",
    "out_button = widgets.Button(description='Ouput result to json')\n",
    "button_box = HBox([submit_button,next_button,save_button,out_button])\n",
    "\n",
    "out_button.on_click(out)\n",
    "next_button.on_click(next_sentence)\n",
    "submit_button.on_click(submit_result)\n",
    "save_button.on_click(save)\n",
    "\n",
    "id_ = dm.fetch_next()\n",
    "load_data(dm,id_)\n",
    "display_all()"
   ]
  },
  {
   "cell_type": "code",
   "execution_count": null,
   "metadata": {
    "pycharm": {
     "is_executing": false
    }
   },
   "outputs": [],
   "source": []
  }
 ],
 "metadata": {
  "kernelspec": {
   "display_name": "Python 3",
   "language": "python",
   "name": "python3"
  },
  "language_info": {
   "codemirror_mode": {
    "name": "ipython",
    "version": 3
   },
   "file_extension": ".py",
   "mimetype": "text/x-python",
   "name": "python",
   "nbconvert_exporter": "python",
   "pygments_lexer": "ipython3",
   "version": "3.7.0"
  },
  "pycharm": {
   "stem_cell": {
    "cell_type": "raw",
    "metadata": {
     "collapsed": false
    },
    "source": []
   }
  }
 },
 "nbformat": 4,
 "nbformat_minor": 2
}
