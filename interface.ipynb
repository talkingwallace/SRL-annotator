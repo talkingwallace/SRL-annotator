{
 "cells": [
  {
   "cell_type": "code",
   "execution_count": 2,
   "metadata": {
    "pycharm": {
     "is_executing": false
    }
   },
   "outputs": [
    {
     "data": {
      "text/html": [
       "你(0) <b>喜欢(1) </b>剧情(2) 电影(3) 吗(4) ？<br><b>喜欢(6) </b><b>看(7) </b>啊(8) 。<br>孟买日记(10) ，很不错(12) ，<b>推荐(14) </b><b>给(15) </b>你(16) 。<br>好(18) 的(19) ，<b>有空(21) </b>了(22) 我(23) <b>去(24) </b><b>看看(25) </b>。<br>这(27) <b>是(28) </b>阿米尔(29) ·(30) 汗(31) 的(32) 代表作(33) ，他(35) <b>是(36) </b>人品(37) 好(38) ，演技(40) 好(41) ，<b>可以(43) </b><b>关注(44) </b>下(45) 。<br>好(47) ，你(49) <b>能(50) </b>详细(51) <b>介绍(52) </b>一下(53) 他(54) 吗(55) ？<br>他(57) 祖籍(58) <b>是(59) </b>印度(60) 孟买(61) ，血型(63) <b>是(64) </b>AB型(65) 。<br>嗯(67) ，我(69) 下来(70) <b>去(71) </b><b>看看(72) </b>他(73) 的(74) 作品(75) 。<br>"
      ],
      "text/plain": [
       "<IPython.core.display.HTML object>"
      ]
     },
     "metadata": {},
     "output_type": "display_data"
    },
    {
     "name": "stdout",
     "output_type": "stream",
     "text": [
      "possible predicate:\n",
      "['喜欢(1) ', '喜欢(6) ', '看(7) ', '推荐(14) ', '给(15) ', '有空(21) ', '去(24) ', '看看(25) ', '是(28) ', '是(36) ', '可以(43) ', '关注(44) ', '能(50) ', '介绍(52) ', '是(59) ', '是(64) ', '去(71) ', '看看(72) ']\n"
     ]
    },
    {
     "data": {
      "application/vnd.jupyter.widget-view+json": {
       "model_id": "4d4456a22bf34630a9b3c67d23b154ca",
       "version_major": 2,
       "version_minor": 0
      },
      "text/plain": [
       "HBox(children=(VBox(children=(Text(value='', description='predicate', layout=Layout(width='80%')), Text(value=…"
      ]
     },
     "metadata": {},
     "output_type": "display_data"
    },
    {
     "data": {
      "application/vnd.jupyter.widget-view+json": {
       "model_id": "73f1ae1e3ae44835b6c4fc4eca34bd48",
       "version_major": 2,
       "version_minor": 0
      },
      "text/plain": [
       "HBox(children=(Button(description='Submit', style=ButtonStyle()), Button(description='Next Sentence', style=Bu…"
      ]
     },
     "metadata": {},
     "output_type": "display_data"
    },
    {
     "name": "stdout",
     "output_type": "stream",
     "text": [
      "progress:0/9232\n",
      "output done!\n"
     ]
    }
   ],
   "source": [
    "import database as db\n",
    "import ipywidgets as widgets\n",
    "from ipywidgets import Button, Layout\n",
    "from IPython.display import display,clear_output,HTML\n",
    "from ipywidgets import Button, HBox, VBox\n",
    "import traceback\n",
    "import os\n",
    "\n",
    "dm = db.DataManager('default','./to_annotate/wu.txt')\n",
    "\n",
    "verbs = None\n",
    "if os.path.exists('./to_annotate/verb.txt'):\n",
    "    verb_f = open('./to_annotate/verb.txt','r',encoding='utf-8')\n",
    "    verbs = verb_f.read().split('\\t\\n')[:-1]   \n",
    "\n",
    "args_type = ['arg0','arg1','arg2','arg4','loc','tmp','prp']\n",
    "arg_list = []\n",
    "pred_input = widgets.Text(description='predicate',layout=Layout(width='80%'))\n",
    "for arg_str in args_type:\n",
    "    arg_list.append(widgets.Text(description=arg_str,layout=Layout(width='80%')))\n",
    "left_box = VBox([pred_input]+arg_list[0:3],layout=Layout(width='30%'))\n",
    "right_box = VBox(arg_list[3:],layout=Layout(width='30%'))\n",
    "box = HBox([left_box,right_box])\n",
    "\n",
    "def load_data(dm,sentid):\n",
    "    \n",
    "    data = dm.data\n",
    "    punctuation = ['。', '，', '？', '&', '！', '@', '；', '（', '）', '、']\n",
    "    record = data['id2sent'][sentid]\n",
    "    record = record.split(' ')\n",
    "    i = 0\n",
    "    conversation = ''\n",
    "    predicate_suggests = []\n",
    "    for word in record:\n",
    "        if word in punctuation:\n",
    "            conversation += word\n",
    "            i += 1\n",
    "            continue\n",
    "        if word == '<SEP>':\n",
    "            conversation += '<br>'\n",
    "            continue\n",
    "        \n",
    "        new_append = word+'({}) '.format(i)\n",
    "        if verbs and word in verbs:\n",
    "            predicate_suggests.append(new_append)\n",
    "            new_append = '<b>' + new_append + '</b>'\n",
    "        conversation += new_append\n",
    "        i += 1\n",
    "    display(HTML(conversation))\n",
    "    print('possible predicate:')\n",
    "    print(predicate_suggests)\n",
    "\n",
    "def display_all():\n",
    "    display(box)\n",
    "    display(button_box)\n",
    "    print('progress:{}/{}'.format(dm.cur_idx,len(dm.todo)))\n",
    "\n",
    "def submit_result(b):\n",
    "    id_ = dm.fetch_next()\n",
    "    try:\n",
    "        arg_dict = {}\n",
    "        pred_idx = int(pred_input.value)\n",
    "        pred_input.value = ''\n",
    "        for idx,t in enumerate(arg_list):\n",
    "            if t.value != '':\n",
    "                val = t.value.split(',')\n",
    "                val = [int(i) for i in val]\n",
    "                if len(val) == 1:\n",
    "                    val.append(val[0])\n",
    "                assert val[1] >= val[0]\n",
    "                arg_dict[args_type[idx]] = val\n",
    "                t.value =  ''\n",
    "        id_ = dm.fetch_next()\n",
    "        dm.save(id_,pred_idx,arg_dict)\n",
    "        print('just commit: pred:',pred_idx,'arg:',arg_dict)\n",
    "    except:\n",
    "        print('error! please examine the input format')\n",
    "        traceback.print_exc()\n",
    "\n",
    "def next_sentence(b):\n",
    "    dm.commit()\n",
    "    id_ = dm.fetch_next()\n",
    "    clear_output()\n",
    "    load_data(dm,id_)\n",
    "    display_all()\n",
    "    \n",
    "def save(b):\n",
    "    dm.data.sync()\n",
    "    dm.data.close()\n",
    "    clear_output()\n",
    "    print('save done!')\n",
    "    \n",
    "def out(b):\n",
    "    db.output_annotations(dm.data)\n",
    "    print('output done!')\n",
    "    \n",
    "submit_button = widgets.Button(description=\"Submit\",)\n",
    "next_button = widgets.Button(description='Next Sentence')\n",
    "save_button = widgets.Button(description='Save and Quit')\n",
    "out_button = widgets.Button(description='Ouput result to json')\n",
    "button_box = HBox([submit_button,next_button,save_button,out_button])\n",
    "\n",
    "out_button.on_click(out)\n",
    "next_button.on_click(next_sentence)\n",
    "submit_button.on_click(submit_result)\n",
    "save_button.on_click(save)\n",
    "\n",
    "id_ = dm.fetch_next()\n",
    "load_data(dm,id_)\n",
    "display_all()"
   ]
  },
  {
   "cell_type": "code",
   "execution_count": null,
   "metadata": {
    "pycharm": {
     "is_executing": false
    }
   },
   "outputs": [],
   "source": []
  }
 ],
 "metadata": {
  "kernelspec": {
   "display_name": "Python 3",
   "language": "python",
   "name": "python3"
  },
  "language_info": {
   "codemirror_mode": {
    "name": "ipython",
    "version": 3
   },
   "file_extension": ".py",
   "mimetype": "text/x-python",
   "name": "python",
   "nbconvert_exporter": "python",
   "pygments_lexer": "ipython3",
   "version": "3.7.0"
  },
  "pycharm": {
   "stem_cell": {
    "cell_type": "raw",
    "metadata": {
     "collapsed": false
    },
    "source": []
   }
  }
 },
 "nbformat": 4,
 "nbformat_minor": 2
}
