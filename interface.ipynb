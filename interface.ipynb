{
 "cells": [
  {
   "cell_type": "code",
   "execution_count": 5,
   "metadata": {
    "pycharm": {
     "is_executing": false
    }
   },
   "outputs": [
    {
     "name": "stdout",
     "output_type": "stream",
     "text": [
      "sentid: 4655821927821644321\n"
     ]
    },
    {
     "data": {
      "text/html": [
       "<b>想(0) </b>看电影(1) 吗(2) ？<br>很(4) <b>想(5) </b>。<br>蜂鸟特攻(7) ，超级(9) 无聊(10) 的(11) 一部(12) 片子(13) ，你(15) <b>会(16) </b><b>看(17) </b>吗(18) ？<br>这个(20) 电影(21) 我看过(22) ，<b>还行(24) </b>吧(25) 。<br>不过(27) 这部(28) 电影(29) 的(30) <b>主演(31) </b>杰森(32) ·(33) 斯坦森(34) ，我(36) 还是(37) 比较(38) <b>喜欢(39) </b>的(40) 哦(41) ！<br>我(43) 跟(44) 你(45) 一样(46) 。<br>他(48) 口碑(49) 很好(50) ，身高(52) <b>有(53) </b>178cm(54) ，网友(56) <b>评论(57) </b><b>说(58) </b>他(59) <b>是(60) </b>硬汉(61) ，<b>喜欢(63) </b>他(64) 在(65) 敢死队(66) 里(67) 的(68) 卖萌(69) 。<br>我(71) <b>会(72) </b>一直(73) <b>支持(74) </b>他(75) 的(76) 。<br>"
      ],
      "text/plain": [
       "<IPython.core.display.HTML object>"
      ]
     },
     "metadata": {},
     "output_type": "display_data"
    },
    {
     "name": "stdout",
     "output_type": "stream",
     "text": [
      "possible predicate:\n",
      "['想(0) ', '想(5) ', '会(16) ', '看(17) ', '还行(24) ', '主演(31) ', '喜欢(39) ', '有(53) ', '评论(57) ', '说(58) ', '是(60) ', '喜欢(63) ', '会(72) ', '支持(74) ']\n"
     ]
    },
    {
     "data": {
      "application/vnd.jupyter.widget-view+json": {
       "model_id": "ed1ddb5f54494544bdf37280ca7fe5b3",
       "version_major": 2,
       "version_minor": 0
      },
      "text/plain": [
       "HBox(children=(VBox(children=(Text(value='', description='predicate', layout=Layout(width='80%')), Text(value=…"
      ]
     },
     "metadata": {},
     "output_type": "display_data"
    },
    {
     "data": {
      "application/vnd.jupyter.widget-view+json": {
       "model_id": "bd8035c14d7340919bd5e3becf402719",
       "version_major": 2,
       "version_minor": 0
      },
      "text/plain": [
       "HBox(children=(Button(description='Pred submit', style=ButtonStyle()), Button(description='Sentence finish', s…"
      ]
     },
     "metadata": {},
     "output_type": "display_data"
    },
    {
     "name": "stdout",
     "output_type": "stream",
     "text": [
      "progress:1350/9232\n"
     ]
    },
    {
     "data": {
      "application/vnd.jupyter.widget-view+json": {
       "model_id": "7912016fef864906909a5f52351a90fd",
       "version_major": 2,
       "version_minor": 0
      },
      "text/plain": [
       "HBox(children=(Button(description='Prev', style=ButtonStyle()), Button(description='Next', style=ButtonStyle()…"
      ]
     },
     "metadata": {},
     "output_type": "display_data"
    }
   ],
   "source": [
    "import database as db\n",
    "import ipywidgets as widgets\n",
    "from ipywidgets import Layout\n",
    "from IPython.display import clear_output\n",
    "from ipywidgets import HBox, VBox\n",
    "from utils import search_by_index, search_by_pred, load_data, display_all\n",
    "import traceback\n",
    "\n",
    "dm = db.DataManager('default','./to_annotate/wu.txt')\n",
    "\n",
    "\n",
    "args_type = ['arg0','arg1','arg2', 'arg3','arg4','loc','tmp','prp']\n",
    "arg_list = []\n",
    "pred_input = widgets.Text(description='predicate',layout=Layout(width='80%'))\n",
    "for arg_str in args_type:\n",
    "    arg_list.append(widgets.Text(description=arg_str,layout=Layout(width='80%')))\n",
    "search_pred_input = widgets.Text(description='Pred search', layout=Layout(width=\"80%\"))\n",
    "search_index_input = widgets.Text(description='Index search', layout=Layout(width=\"80%\"))\n",
    "search_button = widgets.Button(description='Search')\n",
    "left_box = VBox([pred_input]+arg_list[0:3],layout=Layout(width='30%'))\n",
    "right_box = VBox(arg_list[3:],layout=Layout(width='30%'))\n",
    "box = HBox([left_box,right_box])\n",
    "\n",
    "\n",
    "def submit_result(b):\n",
    "    id_ = dm.fetch_current()\n",
    "    try:\n",
    "        arg_dict = {}\n",
    "        pred_idx = int(pred_input.value)\n",
    "        pred_input.value = ''\n",
    "        for idx,t in enumerate(arg_list):\n",
    "            if t.value != '':\n",
    "                val = t.value.split(',')\n",
    "                val = [int(i) for i in val]\n",
    "                if len(val) == 1:\n",
    "                    val.append(val[0])\n",
    "                assert val[1] >= val[0]\n",
    "                arg_dict[args_type[idx]] = val\n",
    "                t.value =  ''\n",
    "        id_ = dm.fetch_current()\n",
    "        dm.save(id_,pred_idx,arg_dict)\n",
    "        print('just commit: pred:',pred_idx,'arg:',arg_dict)\n",
    "    except:\n",
    "        print('error! please examine the input format')\n",
    "        traceback.print_exc()\n",
    "\n",
    "def next_sentence(b):\n",
    "    dm.commit()\n",
    "    id_ = dm.fetch_current()\n",
    "    clear_output()\n",
    "    load_data(dm,id_)\n",
    "    display_all(dm, [box, left_btn_box], right_btn_box)\n",
    "    \n",
    "    \n",
    "def out(b):\n",
    "    db.output_annotations(dm.data)\n",
    "    print('output done!')\n",
    "\n",
    "def search(b):\n",
    "    pred_value = search_pred_input.value\n",
    "    index_value = search_index_input.value\n",
    "    if index_value != '':\n",
    "        if pred_value != '':\n",
    "            print('If pred and index value are both assigned, search results are based on index value.')\n",
    "        search_by_index(dm, index_value)\n",
    "    elif pred_value != '':\n",
    "        search_by_pred(dm, pred_value)\n",
    "    else:\n",
    "        print('error!!! You must assign the value of pred or index.')\n",
    "\n",
    "def previous(b):\n",
    "    __id = dm.fetch_prev()\n",
    "    if __id == -1:\n",
    "        print('There is no previous reocrd. It is the first one.')\n",
    "    else:\n",
    "        clear_output()\n",
    "        load_data(dm, __id)\n",
    "        display_all(dm, [box, left_btn_box], right_btn_box)\n",
    "\n",
    "def next_page(b):\n",
    "    __id = dm.fetch_next()\n",
    "    clear_output()\n",
    "    load_data(dm, __id)\n",
    "    display_all(dm, [box, left_btn_box], right_btn_box)\n",
    "\n",
    "def jump_by_index(b):\n",
    "    index = int(jump_to.value)\n",
    "    __id = dm.fetch_by_index(index)\n",
    "    clear_output()\n",
    "    load_data(dm, __id)\n",
    "    display_all(dm, [box, left_btn_box], right_btn_box)\n",
    "    \n",
    "submit_button = widgets.Button(description=\"Pred submit\",)\n",
    "sent_submit_btn = widgets.Button(description='Sentence finish')\n",
    "out_button = widgets.Button(description='Ouput result to json')\n",
    "\n",
    "previous_btn = widgets.Button(description='Prev')\n",
    "next_page_btn = widgets.Button(description='Next')\n",
    "jump_to = widgets.Text(description='Jump to', layout=Layout(width='30%'))\n",
    "jump_to_btn = widgets.Button(description='Jump')\n",
    "\n",
    "left_btn_box = HBox([submit_button, sent_submit_btn, out_button])\n",
    "right_btn_box = HBox([previous_btn, next_page_btn, jump_to, jump_to_btn])\n",
    "\n",
    "out_button.on_click(out)\n",
    "sent_submit_btn.on_click(next_sentence)\n",
    "submit_button.on_click(submit_result)\n",
    "search_button.on_click(search)\n",
    "previous_btn.on_click(previous)\n",
    "next_page_btn.on_click(next_page)\n",
    "jump_to_btn.on_click(jump_by_index)\n",
    "\n",
    "\n",
    "id_ = dm.fetch_current()\n",
    "load_data(dm,id_)\n",
    "display_all(dm, [box, left_btn_box], right_btn_box)"
   ]
  },
  {
   "cell_type": "code",
   "execution_count": null,
   "metadata": {},
   "outputs": [],
   "source": []
  }
 ],
 "metadata": {
  "kernelspec": {
   "display_name": "Python 3",
   "language": "python",
   "name": "python3"
  },
  "language_info": {
   "codemirror_mode": {
    "name": "ipython",
    "version": 3
   },
   "file_extension": ".py",
   "mimetype": "text/x-python",
   "name": "python",
   "nbconvert_exporter": "python",
   "pygments_lexer": "ipython3",
   "version": "3.7.4"
  },
  "pycharm": {
   "stem_cell": {
    "cell_type": "raw",
    "metadata": {
     "collapsed": false
    },
    "source": []
   }
  }
 },
 "nbformat": 4,
 "nbformat_minor": 2
}
