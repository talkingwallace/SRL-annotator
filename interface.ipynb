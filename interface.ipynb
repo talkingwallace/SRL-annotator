{
 "cells": [
  {
   "cell_type": "code",
   "execution_count": 1,
   "metadata": {
    "pycharm": {
     "is_executing": false
    }
   },
   "outputs": [
    {
     "name": "stdout",
     "output_type": "stream",
     "text": [
      "sentid: 53240445818405044\n"
     ]
    },
    {
     "data": {
      "text/html": [
       "你(0) <b>有(1) </b><b>喜欢(2) </b>的(3) 明星(4) 吗(5) ？<br><b>有(7) </b>啊(8) ！罗玉凤(10) ！<br><b>给(12) </b>你(13) <b>推荐(14) </b>一位(15) ，他(17) <b>叫(18) </b>山下智久(19) ，你(21) 一定(22) <b>会(23) </b><b>喜欢(24) </b>的(25) 。<br>好(27) 的(28) ，我(30) 一定(31) <b>去(32) </b><b>关注(33) </b>的(34) 。<br>他(36) 还(37) <b>出演(38) </b><b>过(39) </b>一部(40) 电影(41) ，一部(43) 很不错(44) 的(45) 中国(46) 电影(47) 。<br>什么(49) 电影(50) ？<b>说出来(52) </b><b>听听(53) </b>。<br>解码游戏(55) ，韩庚(57) <b>主演(58) </b>的(59) 。<br>好(61) 吧(62) ，我(64) <b>改(65) </b>天(66) <b>有(67) </b>时间(68) 了(69) 就(70) <b>去(71) </b><b>看一下(72) </b>。<br>"
      ],
      "text/plain": [
       "<IPython.core.display.HTML object>"
      ]
     },
     "metadata": {},
     "output_type": "display_data"
    },
    {
     "name": "stdout",
     "output_type": "stream",
     "text": [
      "possible predicate:\n",
      "['有(1) ', '喜欢(2) ', '有(7) ', '给(12) ', '推荐(14) ', '叫(18) ', '会(23) ', '喜欢(24) ', '去(32) ', '关注(33) ', '出演(38) ', '过(39) ', '说出来(52) ', '听听(53) ', '主演(58) ', '改(65) ', '有(67) ', '去(71) ', '看一下(72) ']\n"
     ]
    },
    {
     "data": {
      "application/vnd.jupyter.widget-view+json": {
       "model_id": "4ffefb9610334592b2be9aef731af83a",
       "version_major": 2,
       "version_minor": 0
      },
      "text/plain": [
       "HBox(children=(VBox(children=(Text(value='', description='predicate', layout=Layout(width='80%')), Text(value=…"
      ]
     },
     "metadata": {},
     "output_type": "display_data"
    },
    {
     "data": {
      "application/vnd.jupyter.widget-view+json": {
       "model_id": "2e7eec42970a408085ffa3e6dcffc258",
       "version_major": 2,
       "version_minor": 0
      },
      "text/plain": [
       "HBox(children=(Button(description='Pred submit', style=ButtonStyle()), Button(description='Sentence finish', s…"
      ]
     },
     "metadata": {},
     "output_type": "display_data"
    },
    {
     "name": "stdout",
     "output_type": "stream",
     "text": [
      "progress:52/9232\n"
     ]
    },
    {
     "data": {
      "application/vnd.jupyter.widget-view+json": {
       "model_id": "bcb0a9507b8a44c8b26c51ea22282839",
       "version_major": 2,
       "version_minor": 0
      },
      "text/plain": [
       "HBox(children=(Button(description='Prev', style=ButtonStyle()), Button(description='Next', style=ButtonStyle()…"
      ]
     },
     "metadata": {},
     "output_type": "display_data"
    },
    {
     "name": "stdout",
     "output_type": "stream",
     "text": [
      "total predicates: 5\n",
      "total predicates: 11\n",
      "total predicates: 23\n",
      "total predicates: 31\n",
      "total predicates: 44\n",
      "total predicates: 51\n",
      "total predicates: 58\n",
      "total predicates: 69\n",
      "total predicates: 81\n",
      "total predicates: 96\n",
      "total predicates: 105\n",
      "total predicates: 113\n",
      "total predicates: 125\n",
      "total predicates: 134\n",
      "total predicates: 142\n",
      "total predicates: 153\n",
      "total predicates: 163\n",
      "total predicates: 171\n",
      "total predicates: 180\n",
      "total predicates: 192\n",
      "total predicates: 206\n",
      "total predicates: 213\n",
      "total predicates: 223\n",
      "total predicates: 239\n",
      "total predicates: 250\n",
      "total predicates: 255\n",
      "total predicates: 260\n",
      "total predicates: 267\n",
      "total predicates: 278\n",
      "total predicates: 284\n",
      "total predicates: 297\n",
      "total predicates: 307\n",
      "total predicates: 315\n",
      "total predicates: 327\n",
      "total predicates: 337\n",
      "total predicates: 346\n",
      "total predicates: 352\n",
      "total predicates: 367\n",
      "total predicates: 377\n",
      "total predicates: 389\n",
      "total predicates: 400\n",
      "total predicates: 414\n",
      "total predicates: 424\n",
      "total predicates: 435\n",
      "total predicates: 444\n",
      "total predicates: 456\n",
      "total predicates: 466\n",
      "total predicates: 475\n",
      "total predicates: 485\n",
      "total predicates: 494\n",
      "total predicates: 500\n",
      "total predicates: 510\n",
      "output done!\n"
     ]
    }
   ],
   "source": [
    "import database as db\n",
    "import ipywidgets as widgets\n",
    "from ipywidgets import Layout\n",
    "from IPython.display import clear_output\n",
    "from ipywidgets import HBox, VBox\n",
    "from utils import search_by_index, search_by_pred, load_data, display_all\n",
    "import traceback\n",
    "\n",
    "dm = db.DataManager('default','./to_annotate/wu.txt')\n",
    "\n",
    "\n",
    "args_type = ['arg0','arg1','arg2', 'arg3','arg4','loc','tmp','prp']\n",
    "arg_list = []\n",
    "pred_input = widgets.Text(description='predicate',layout=Layout(width='80%'))\n",
    "for arg_str in args_type:\n",
    "    arg_list.append(widgets.Text(description=arg_str,layout=Layout(width='80%')))\n",
    "search_pred_input = widgets.Text(description='Pred search', layout=Layout(width=\"80%\"))\n",
    "search_index_input = widgets.Text(description='Index search', layout=Layout(width=\"80%\"))\n",
    "search_button = widgets.Button(description='Search')\n",
    "left_box = VBox([pred_input]+arg_list[0:3],layout=Layout(width='30%'))\n",
    "right_box = VBox(arg_list[3:],layout=Layout(width='30%'))\n",
    "# search_box = VBox([search_pred_input, search_index_input, search_button], layout=Layout(width=\"30%\"))\n",
    "# box = HBox([left_box,right_box, search_box])\n",
    "box = HBox([left_box,right_box])\n",
    "\n",
    "\n",
    "def submit_result(b):\n",
    "    id_ = dm.fetch_current()\n",
    "    try:\n",
    "        arg_dict = {}\n",
    "        pred_idx = int(pred_input.value)\n",
    "        pred_input.value = ''\n",
    "        for idx,t in enumerate(arg_list):\n",
    "            if t.value != '':\n",
    "                val = t.value.split(',')\n",
    "                val = [int(i) for i in val]\n",
    "                if len(val) == 1:\n",
    "                    val.append(val[0])\n",
    "                assert val[1] >= val[0]\n",
    "                arg_dict[args_type[idx]] = val\n",
    "                t.value =  ''\n",
    "        id_ = dm.fetch_current()\n",
    "        dm.save(id_,pred_idx,arg_dict)\n",
    "        print('just commit: pred:',pred_idx,'arg:',arg_dict)\n",
    "    except:\n",
    "        print('error! please examine the input format')\n",
    "        traceback.print_exc()\n",
    "\n",
    "def next_sentence(b):\n",
    "    dm.commit()\n",
    "    id_ = dm.fetch_current()\n",
    "    clear_output()\n",
    "    load_data(dm,id_)\n",
    "    display_all(dm, [box, left_btn_box], right_btn_box)\n",
    "    \n",
    "    \n",
    "def out(b):\n",
    "    db.output_annotations(dm.data)\n",
    "    print('output done!')\n",
    "\n",
    "def search(b):\n",
    "    pred_value = search_pred_input.value\n",
    "    index_value = search_index_input.value\n",
    "    if index_value != '':\n",
    "        if pred_value != '':\n",
    "            print('If pred and index value are both assigned, search results are based on index value.')\n",
    "        search_by_index(dm, index_value)\n",
    "    elif pred_value != '':\n",
    "        search_by_pred(dm, pred_value)\n",
    "    else:\n",
    "        print('error!!! You must assign the value of pred or index.')\n",
    "\n",
    "def previous(b):\n",
    "    __id = dm.fetch_prev()\n",
    "    if __id == -1:\n",
    "        print('There is no previous reocrd. It is the first one.')\n",
    "    else:\n",
    "        clear_output()\n",
    "        load_data(dm, __id)\n",
    "        display_all(dm, [box, left_btn_box], right_btn_box)\n",
    "\n",
    "def next_page(b):\n",
    "    __id = dm.fetch_next()\n",
    "    clear_output()\n",
    "    load_data(dm, __id)\n",
    "    display_all(dm, [box, left_btn_box], right_btn_box)\n",
    "\n",
    "def jump_by_index(b):\n",
    "    index = int(jump_to.value)\n",
    "    __id = dm.fetch_by_index(index)\n",
    "    clear_output()\n",
    "    load_data(dm, __id)\n",
    "    display_all(dm, [box, left_btn_box], right_btn_box)\n",
    "    \n",
    "submit_button = widgets.Button(description=\"Pred submit\",)\n",
    "sent_submit_btn = widgets.Button(description='Sentence finish')\n",
    "out_button = widgets.Button(description='Ouput result to json')\n",
    "\n",
    "previous_btn = widgets.Button(description='Prev')\n",
    "next_page_btn = widgets.Button(description='Next')\n",
    "jump_to = widgets.Text(description='Jump to', layout=Layout(width='30%'))\n",
    "jump_to_btn = widgets.Button(description='Jump')\n",
    "\n",
    "left_btn_box = HBox([submit_button, sent_submit_btn, out_button])\n",
    "right_btn_box = HBox([previous_btn, next_page_btn, jump_to, jump_to_btn])\n",
    "\n",
    "out_button.on_click(out)\n",
    "sent_submit_btn.on_click(next_sentence)\n",
    "submit_button.on_click(submit_result)\n",
    "search_button.on_click(search)\n",
    "previous_btn.on_click(previous)\n",
    "next_page_btn.on_click(next_page)\n",
    "jump_to_btn.on_click(jump_by_index)\n",
    "\n",
    "\n",
    "id_ = dm.fetch_current()\n",
    "load_data(dm,id_)\n",
    "display_all(dm, [box, left_btn_box], right_btn_box)"
   ]
  },
  {
   "cell_type": "code",
   "execution_count": null,
   "metadata": {},
   "outputs": [],
   "source": []
  }
 ],
 "metadata": {
  "kernelspec": {
   "display_name": "Python [conda env:py37torch12] *",
   "language": "python",
   "name": "conda-env-py37torch12-py"
  },
  "language_info": {
   "codemirror_mode": {
    "name": "ipython",
    "version": 3
   },
   "file_extension": ".py",
   "mimetype": "text/x-python",
   "name": "python",
   "nbconvert_exporter": "python",
   "pygments_lexer": "ipython3",
   "version": "3.7.4"
  },
  "pycharm": {
   "stem_cell": {
    "cell_type": "raw",
    "metadata": {
     "collapsed": false
    },
    "source": []
   }
  }
 },
 "nbformat": 4,
 "nbformat_minor": 2
}
